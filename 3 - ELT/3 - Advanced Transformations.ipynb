{
 "cells": [
  {
   "cell_type": "markdown",
   "metadata": {
    "application/vnd.databricks.v1+cell": {
     "cellMetadata": {},
     "inputWidgets": {},
     "nuid": "b3de83bf-f0e1-4e3a-9ab5-accf197feb01",
     "showTitle": false,
     "tableResultSettingsMap": {},
     "title": ""
    }
   },
   "source": [
    "\n",
    "<div  style=\"text-align: center; line-height: 0; padding-top: 9px;\">\n",
    "  <img src=\"https://raw.githubusercontent.com/derar-alhussein/Databricks-Certified-Data-Engineer-Associate/main/Includes/images/bookstore_schema.png\" alt=\"Databricks Learning\" style=\"width: 600\">\n",
    "</div>"
   ]
  },
  {
   "cell_type": "code",
   "execution_count": 0,
   "metadata": {
    "application/vnd.databricks.v1+cell": {
     "cellMetadata": {},
     "inputWidgets": {},
     "nuid": "5760f734-042e-4647-b470-80ea799d740e",
     "showTitle": false,
     "tableResultSettingsMap": {},
     "title": ""
    }
   },
   "outputs": [],
   "source": [
    "%run ../Includes/Copy-Datasets"
   ]
  },
  {
   "cell_type": "markdown",
   "metadata": {
    "application/vnd.databricks.v1+cell": {
     "cellMetadata": {},
     "inputWidgets": {},
     "nuid": "b4fc98b7-19c6-4ec0-8d4b-84ff8d667bad",
     "showTitle": false,
     "tableResultSettingsMap": {},
     "title": ""
    }
   },
   "source": [
    "## 📦 Parsing JSON Data\n",
    "\n",
    "Spark SQL provides robust tools to work with **nested JSON structures** often found in real-world datasets:\n",
    "\n",
    "- JSON fields can be parsed into structured formats (e.g., structs) for easier access.\n",
    "- Extracting and flattening these nested fields helps make the data usable for querying and transformations.\n",
    "- Deriving a schema beforehand ensures accurate parsing and efficient performance."
   ]
  },
  {
   "cell_type": "code",
   "execution_count": 0,
   "metadata": {
    "application/vnd.databricks.v1+cell": {
     "cellMetadata": {},
     "inputWidgets": {},
     "nuid": "9fa3feed-b433-48dc-9278-160f6a491adc",
     "showTitle": false,
     "tableResultSettingsMap": {},
     "title": ""
    }
   },
   "outputs": [],
   "source": [
    "SELECT * FROM customers;"
   ]
  },
  {
   "cell_type": "code",
   "execution_count": 0,
   "metadata": {
    "application/vnd.databricks.v1+cell": {
     "cellMetadata": {},
     "inputWidgets": {},
     "nuid": "55ae797f-887b-4d6e-9435-a8a9b15b418d",
     "showTitle": false,
     "tableResultSettingsMap": {},
     "title": ""
    }
   },
   "outputs": [],
   "source": [
    "--Profile field will show as string\n",
    "DESCRIBE customers;"
   ]
  },
  {
   "cell_type": "code",
   "execution_count": 0,
   "metadata": {
    "application/vnd.databricks.v1+cell": {
     "cellMetadata": {},
     "inputWidgets": {},
     "nuid": "827943f7-2c56-4ea6-b88f-46b710eefb3f",
     "showTitle": false,
     "tableResultSettingsMap": {},
     "title": ""
    }
   },
   "outputs": [],
   "source": [
    "--Use the colon syntax to traverse nested data structures\n",
    "SELECT customer_id, profile:first_name, profile:address:country \n",
    "FROM customers;"
   ]
  },
  {
   "cell_type": "markdown",
   "metadata": {
    "application/vnd.databricks.v1+cell": {
     "cellMetadata": {},
     "inputWidgets": {},
     "nuid": "ab31bafa-cac0-45e9-83f2-2c1058d65bc2",
     "showTitle": false,
     "tableResultSettingsMap": {},
     "title": ""
    }
   },
   "source": [
    "## 🧱 Understanding Struct Types in Spark\n",
    "\n",
    "A **struct** is a complex data type that groups multiple fields together into a single column.\n",
    "\n",
    "- Think of it like a mini table or a nested object.\n",
    "- It allows storing multiple related values (e.g., name, age, address) in one column.\n",
    "- Structs are commonly seen when working with JSON, where data is nested.\n",
    "\n",
    "### 🔹 Why use struct types?\n",
    "\n",
    "- Helps keep related attributes grouped together.\n",
    "- Makes it easier to work with **nested data** (like JSON or hierarchical data).\n",
    "- Allows for organized data modeling in a single column.\n",
    "\n",
    "### 🔹 Accessing fields\n",
    "\n",
    "You can access fields inside a struct using dot notation:"
   ]
  },
  {
   "cell_type": "code",
   "execution_count": 0,
   "metadata": {
    "application/vnd.databricks.v1+cell": {
     "cellMetadata": {},
     "inputWidgets": {},
     "nuid": "8b417446-368e-4d09-bb23-b4fb8852c5af",
     "showTitle": false,
     "tableResultSettingsMap": {},
     "title": ""
    }
   },
   "outputs": [],
   "source": [
    "--This will fail because this function requires the schema of the JSON object\n",
    "SELECT from_json(profile) AS profile_struct\n",
    "  FROM customers;"
   ]
  },
  {
   "cell_type": "code",
   "execution_count": 0,
   "metadata": {
    "application/vnd.databricks.v1+cell": {
     "cellMetadata": {},
     "inputWidgets": {},
     "nuid": "d97de7de-8c2e-4eae-b4f2-feb2b4dfb55c",
     "showTitle": false,
     "tableResultSettingsMap": {},
     "title": ""
    }
   },
   "outputs": [],
   "source": [
    "--Gather the sample data of our JSON value with non null fields\n",
    "SELECT profile \n",
    "FROM customers \n",
    "LIMIT 1;"
   ]
  },
  {
   "cell_type": "code",
   "execution_count": 0,
   "metadata": {
    "application/vnd.databricks.v1+cell": {
     "cellMetadata": {},
     "inputWidgets": {},
     "nuid": "a81cb01b-54e6-4cab-b738-7d4a09e10d89",
     "showTitle": false,
     "tableResultSettingsMap": {},
     "title": ""
    }
   },
   "outputs": [],
   "source": [
    "--Copy the Sample data and provide it to the schmea_of_json function and store these parsed recrods in a temporary view\n",
    "CREATE OR REPLACE TEMP VIEW parsed_customers AS\n",
    "  SELECT customer_id, from_json(profile, schema_of_json('{\"first_name\":\"Thomas\",\"last_name\":\"Lane\",\"gender\":\"Male\",\"address\":{\"street\":\"06 Boulevard Victor Hugo\",\"city\":\"Paris\",\"country\":\"France\"}}')) AS profile_struct\n",
    "  FROM customers;\n",
    "  \n",
    "SELECT * FROM parsed_customers;"
   ]
  },
  {
   "cell_type": "code",
   "execution_count": 0,
   "metadata": {
    "application/vnd.databricks.v1+cell": {
     "cellMetadata": {},
     "inputWidgets": {},
     "nuid": "6f340a46-3356-4216-9d66-3bf9d5b7ce8f",
     "showTitle": false,
     "tableResultSettingsMap": {},
     "title": ""
    }
   },
   "outputs": [],
   "source": [
    "--The new column will have a struct data type\n",
    "DESCRIBE parsed_customers;"
   ]
  },
  {
   "cell_type": "code",
   "execution_count": 0,
   "metadata": {
    "application/vnd.databricks.v1+cell": {
     "cellMetadata": {},
     "inputWidgets": {},
     "nuid": "8367a5cf-c4d1-4fd1-b16c-6364d880d65a",
     "showTitle": false,
     "tableResultSettingsMap": {},
     "title": ""
    }
   },
   "outputs": [],
   "source": [
    "--With struct type, we can interact with the subfields using standard period or dot syntax instead of column syntax\n",
    "SELECT customer_id, profile_struct.first_name, profile_struct.address.country\n",
    "FROM parsed_customers;"
   ]
  },
  {
   "cell_type": "code",
   "execution_count": 0,
   "metadata": {
    "application/vnd.databricks.v1+cell": {
     "cellMetadata": {},
     "inputWidgets": {},
     "nuid": "e477d1f1-8511-4e5e-a931-d61c717d488a",
     "showTitle": false,
     "tableResultSettingsMap": {},
     "title": ""
    }
   },
   "outputs": [],
   "source": [
    "--Once a JSON string is converted to a struct type, use the star operation to flatten fields into columns\n",
    "CREATE OR REPLACE TEMP VIEW customers_final AS\n",
    "  SELECT customer_id, profile_struct.*\n",
    "  FROM parsed_customers;\n",
    "  \n",
    "SELECT * FROM customers_final;"
   ]
  },
  {
   "cell_type": "code",
   "execution_count": 0,
   "metadata": {
    "application/vnd.databricks.v1+cell": {
     "cellMetadata": {},
     "inputWidgets": {},
     "nuid": "a095052d-9b40-470a-9a60-cf7765aee1da",
     "showTitle": false,
     "tableResultSettingsMap": {},
     "title": ""
    }
   },
   "outputs": [],
   "source": [
    "SELECT order_id, customer_id, books\n",
    "FROM orders;"
   ]
  },
  {
   "cell_type": "markdown",
   "metadata": {
    "application/vnd.databricks.v1+cell": {
     "cellMetadata": {},
     "inputWidgets": {},
     "nuid": "ea4fcaf4-2747-49c3-8b18-483f9ac53725",
     "showTitle": false,
     "tableResultSettingsMap": {},
     "title": ""
    }
   },
   "source": [
    "## 💥 Explode Function\n",
    "\n",
    "The `explode` function is used to transform **arrays into multiple rows**.\n",
    "\n",
    "- This operation is essential when working with columns that contain array-type data.\n",
    "- It helps to break down and analyze each element of an array as a separate row."
   ]
  },
  {
   "cell_type": "code",
   "execution_count": 0,
   "metadata": {
    "application/vnd.databricks.v1+cell": {
     "cellMetadata": {},
     "inputWidgets": {},
     "nuid": "2d700a3e-b2af-4dd6-9596-e4ff000758e6",
     "showTitle": false,
     "tableResultSettingsMap": {},
     "title": ""
    }
   },
   "outputs": [],
   "source": [
    "SELECT order_id, customer_id, explode(books) AS book \n",
    "FROM orders;"
   ]
  },
  {
   "cell_type": "markdown",
   "metadata": {
    "application/vnd.databricks.v1+cell": {
     "cellMetadata": {},
     "inputWidgets": {},
     "nuid": "570ca1f6-eb5e-429b-9f32-b716629f3a82",
     "showTitle": false,
     "tableResultSettingsMap": {},
     "title": ""
    }
   },
   "source": [
    "## 🧺 Collecting Rows\n",
    "\n",
    "To aggregate values from a group of rows:\n",
    "\n",
    "- Use functions like `collect_set` or `collect_list` to **combine values into arrays**.\n",
    "- This is useful for summarizing data while preserving uniqueness or order."
   ]
  },
  {
   "cell_type": "code",
   "execution_count": 0,
   "metadata": {
    "application/vnd.databricks.v1+cell": {
     "cellMetadata": {},
     "inputWidgets": {},
     "nuid": "0ec2bdb8-7673-4202-9dcb-0c5591c41887",
     "showTitle": false,
     "tableResultSettingsMap": {},
     "title": ""
    }
   },
   "outputs": [],
   "source": [
    "SELECT customer_id,\n",
    "  collect_set(order_id) AS orders_set,\n",
    "  collect_set(books.book_id) AS books_set\n",
    "FROM orders\n",
    "GROUP BY customer_id;"
   ]
  },
  {
   "cell_type": "markdown",
   "metadata": {
    "application/vnd.databricks.v1+cell": {
     "cellMetadata": {},
     "inputWidgets": {},
     "nuid": "0c1a8ca8-f4e4-45a5-acd9-a29e0b2e8f3e",
     "showTitle": false,
     "tableResultSettingsMap": {},
     "title": ""
    }
   },
   "source": [
    "## 🪄 Flattening Arrays and Structs\n",
    "\n",
    "Flattening nested structures makes data more accessible and easier to analyze:\n",
    "\n",
    "- Structs can be **expanded into individual columns**.\n",
    "- Arrays can be exploded and then flattened using additional transformations.\n",
    "\n",
    "This process turns deeply nested data into a tabular format that is easier to query and work with.\n"
   ]
  },
  {
   "cell_type": "code",
   "execution_count": 0,
   "metadata": {
    "application/vnd.databricks.v1+cell": {
     "cellMetadata": {},
     "inputWidgets": {},
     "nuid": "18e10941-ff24-4f7a-abc0-9c0c71827063",
     "showTitle": false,
     "tableResultSettingsMap": {},
     "title": ""
    }
   },
   "outputs": [],
   "source": [
    "SELECT customer_id,\n",
    "  collect_set(books.book_id) As before_flatten,\n",
    "  array_distinct(flatten(collect_set(books.book_id))) AS after_flatten\n",
    "FROM orders\n",
    "GROUP BY customer_id;"
   ]
  },
  {
   "cell_type": "markdown",
   "metadata": {
    "application/vnd.databricks.v1+cell": {
     "cellMetadata": {},
     "inputWidgets": {},
     "nuid": "793de122-60d6-4709-ae66-3c0cc20732d8",
     "showTitle": false,
     "tableResultSettingsMap": {},
     "title": ""
    }
   },
   "source": [
    "## 🔗 Join Operations\n",
    "\n",
    "Spark SQL supports a variety of **join types** to combine datasets:\n",
    "\n",
    "- **Inner Join**\n",
    "- **Left / Right Outer Join**\n",
    "- **Full Outer Join**\n",
    "- **Left Semi / Anti Join**\n",
    "- **Cross Join**\n",
    "\n",
    "These joins are used to enrich datasets by matching and merging records from different sources based on common keys.\n"
   ]
  },
  {
   "cell_type": "code",
   "execution_count": 0,
   "metadata": {
    "application/vnd.databricks.v1+cell": {
     "cellMetadata": {},
     "inputWidgets": {},
     "nuid": "12120e29-3ae7-4c72-870e-3090749f6136",
     "showTitle": false,
     "tableResultSettingsMap": {},
     "title": ""
    }
   },
   "outputs": [],
   "source": [
    "CREATE OR REPLACE VIEW orders_enriched AS\n",
    "SELECT *\n",
    "FROM (\n",
    "  SELECT *, explode(books) AS book \n",
    "  FROM orders) o\n",
    "INNER JOIN books b\n",
    "ON o.book.book_id = b.book_id;\n",
    "\n",
    "SELECT * FROM orders_enriched;"
   ]
  },
  {
   "cell_type": "markdown",
   "metadata": {
    "application/vnd.databricks.v1+cell": {
     "cellMetadata": {},
     "inputWidgets": {},
     "nuid": "917141fc-d8c2-426c-86a1-8d8b672a27ec",
     "showTitle": false,
     "tableResultSettingsMap": {},
     "title": ""
    }
   },
   "source": [
    "## 🔁 Set Operations\n",
    "\n",
    "Set-based operations allow you to compare and combine datasets efficiently:\n",
    "\n",
    "- **UNION** combines datasets by rows.\n",
    "- **INTERSECT** returns only common records.\n",
    "- **EXCEPT/MINUS** subtracts one dataset from another.\n",
    "\n",
    "These operations are helpful for dataset comparison, deduplication, and validation.\n"
   ]
  },
  {
   "cell_type": "code",
   "execution_count": 0,
   "metadata": {
    "application/vnd.databricks.v1+cell": {
     "cellMetadata": {},
     "inputWidgets": {},
     "nuid": "eb603189-05ae-44b4-918a-e1fe13b88d4f",
     "showTitle": false,
     "tableResultSettingsMap": {},
     "title": ""
    }
   },
   "outputs": [],
   "source": [
    "CREATE OR REPLACE TEMP VIEW orders_updates\n",
    "AS SELECT * FROM parquet.`${dataset.bookstore}/orders-new`;\n",
    "\n",
    "SELECT * FROM orders \n",
    "UNION \n",
    "SELECT * FROM orders_updates;"
   ]
  },
  {
   "cell_type": "code",
   "execution_count": 0,
   "metadata": {
    "application/vnd.databricks.v1+cell": {
     "cellMetadata": {},
     "inputWidgets": {},
     "nuid": "ef794999-761d-44c2-a3b0-6b37cab5e525",
     "showTitle": false,
     "tableResultSettingsMap": {},
     "title": ""
    }
   },
   "outputs": [],
   "source": [
    "SELECT * FROM orders \n",
    "INTERSECT \n",
    "SELECT * FROM orders_updates;"
   ]
  },
  {
   "cell_type": "code",
   "execution_count": 0,
   "metadata": {
    "application/vnd.databricks.v1+cell": {
     "cellMetadata": {},
     "inputWidgets": {},
     "nuid": "c5b4ef89-275e-42e0-ae99-b338496a7cd9",
     "showTitle": false,
     "tableResultSettingsMap": {},
     "title": ""
    }
   },
   "outputs": [],
   "source": [
    "SELECT * FROM orders \n",
    "MINUS \n",
    "SELECT * FROM orders_updates;"
   ]
  },
  {
   "cell_type": "markdown",
   "metadata": {
    "application/vnd.databricks.v1+cell": {
     "cellMetadata": {},
     "inputWidgets": {},
     "nuid": "fcadf527-20ef-44bc-9811-4216c6427507",
     "showTitle": false,
     "tableResultSettingsMap": {},
     "title": ""
    }
   },
   "source": [
    "## 🔄 Reshaping Data with Pivot\n",
    "\n",
    "The **PIVOT** clause allows you to **transform rows into columns**, enabling powerful data reshaping:\n",
    "\n",
    "- Ideal for aggregation across categories.\n",
    "- Frequently used in reporting, dashboarding, and preparing features for machine learning.\n",
    "\n",
    "Pivoting simplifies comparative analysis and enables better data visualization."
   ]
  },
  {
   "cell_type": "code",
   "execution_count": 0,
   "metadata": {
    "application/vnd.databricks.v1+cell": {
     "cellMetadata": {},
     "inputWidgets": {},
     "nuid": "63ac2ba4-b03c-4af4-8ab4-6e63c90515db",
     "showTitle": false,
     "tableResultSettingsMap": {},
     "title": ""
    }
   },
   "outputs": [],
   "source": [
    "CREATE OR REPLACE TABLE transactions AS\n",
    "\n",
    "SELECT * FROM (\n",
    "  SELECT\n",
    "    customer_id,\n",
    "    book.book_id AS book_id,\n",
    "    book.quantity AS quantity\n",
    "  FROM orders_enriched\n",
    ") PIVOT (\n",
    "  sum(quantity) FOR book_id in (\n",
    "    'B01', 'B02', 'B03', 'B04', 'B05', 'B06',\n",
    "    'B07', 'B08', 'B09', 'B10', 'B11', 'B12'\n",
    "  )\n",
    ");\n",
    "\n",
    "SELECT * FROM transactions;"
   ]
  }
 ],
 "metadata": {
  "application/vnd.databricks.v1+notebook": {
   "computePreferences": null,
   "dashboards": [],
   "environmentMetadata": {
    "base_environment": "",
    "environment_version": "2"
   },
   "inputWidgetPreferences": null,
   "language": "sql",
   "notebookMetadata": {
    "pythonIndentUnit": 4
   },
   "notebookName": "3 - Advanced Transformations",
   "widgets": {}
  },
  "language_info": {
   "name": "sql"
  }
 },
 "nbformat": 4,
 "nbformat_minor": 0
}
