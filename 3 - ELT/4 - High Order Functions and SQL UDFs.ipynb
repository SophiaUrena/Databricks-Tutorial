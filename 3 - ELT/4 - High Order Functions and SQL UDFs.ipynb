{
 "cells": [
  {
   "cell_type": "markdown",
   "metadata": {
    "application/vnd.databricks.v1+cell": {
     "cellMetadata": {},
     "inputWidgets": {},
     "nuid": "64d7ae67-8432-4c64-8001-62b1a8bcc106",
     "showTitle": false,
     "tableResultSettingsMap": {},
     "title": ""
    }
   },
   "source": [
    "\n",
    "<div  style=\"text-align: center; line-height: 0; padding-top: 9px;\">\n",
    "  <img src=\"https://raw.githubusercontent.com/derar-alhussein/Databricks-Certified-Data-Engineer-Associate/main/Includes/images/bookstore_schema.png\" alt=\"Databricks Learning\" style=\"width: 600\">\n",
    "</div>"
   ]
  },
  {
   "cell_type": "code",
   "execution_count": 0,
   "metadata": {
    "application/vnd.databricks.v1+cell": {
     "cellMetadata": {},
     "inputWidgets": {},
     "nuid": "fb5bf90f-d2a7-45db-b6ec-f1cd8a3c0a1b",
     "showTitle": false,
     "tableResultSettingsMap": {},
     "title": ""
    }
   },
   "outputs": [],
   "source": [
    "%run ../Includes/Copy-Datasets"
   ]
  },
  {
   "cell_type": "code",
   "execution_count": 0,
   "metadata": {
    "application/vnd.databricks.v1+cell": {
     "cellMetadata": {},
     "inputWidgets": {},
     "nuid": "37c76ffc-deb1-489c-8d0b-72cb3acedf15",
     "showTitle": false,
     "tableResultSettingsMap": {},
     "title": ""
    }
   },
   "outputs": [],
   "source": [
    "SELECT * FROM orders;"
   ]
  },
  {
   "cell_type": "markdown",
   "metadata": {
    "application/vnd.databricks.v1+cell": {
     "cellMetadata": {},
     "inputWidgets": {},
     "nuid": "cf60a2c8-77c0-4d87-a86f-5a06feefbab1",
     "showTitle": false,
     "tableResultSettingsMap": {},
     "title": ""
    }
   },
   "source": [
    "\n",
    "## 🔍 Filtering Arrays\n",
    "\n",
    "The dataset includes complex fields such as arrays of structs (e.g., a list of books per order).  \n",
    "**Higher-order functions** like `filter` allow users to selectively retain elements from an array based on custom conditions.\n",
    "\n",
    "- Enables precise subsetting of array elements.\n",
    "- Useful for isolating values of interest (e.g., quantities greater than a threshold).\n",
    "- Can be paired with subqueries to handle edge cases like empty arrays."
   ]
  },
  {
   "cell_type": "code",
   "execution_count": 0,
   "metadata": {
    "application/vnd.databricks.v1+cell": {
     "cellMetadata": {},
     "inputWidgets": {},
     "nuid": "77e7d2c9-1316-49c3-a339-e89726816b6e",
     "showTitle": false,
     "tableResultSettingsMap": {},
     "title": ""
    }
   },
   "outputs": [],
   "source": [
    "SELECT\n",
    "  order_id,\n",
    "  books,\n",
    "  FILTER (books, i -> i.quantity >= 2) AS multiple_copies\n",
    "FROM orders;"
   ]
  },
  {
   "cell_type": "code",
   "execution_count": 0,
   "metadata": {
    "application/vnd.databricks.v1+cell": {
     "cellMetadata": {},
     "inputWidgets": {},
     "nuid": "55a7b897-58dd-4284-a0a3-2a04c5488e66",
     "showTitle": false,
     "tableResultSettingsMap": {},
     "title": ""
    }
   },
   "outputs": [],
   "source": [
    "SELECT order_id, multiple_copies\n",
    "FROM (\n",
    "  SELECT\n",
    "    order_id,\n",
    "    FILTER (books, i -> i.quantity >= 2) AS multiple_copies\n",
    "  FROM orders)\n",
    "WHERE size(multiple_copies) > 0;"
   ]
  },
  {
   "cell_type": "markdown",
   "metadata": {
    "application/vnd.databricks.v1+cell": {
     "cellMetadata": {},
     "inputWidgets": {},
     "nuid": "0ce0ab4b-00f6-4eed-9d4f-b21860d665d0",
     "showTitle": false,
     "tableResultSettingsMap": {},
     "title": ""
    }
   },
   "source": [
    "\n",
    "## 🔁 Transforming Arrays\n",
    "\n",
    "The `transform` function allows element-wise operations on arrays.  \n",
    "It applies a transformation to each item, enabling calculated fields or modified values within the same structure.\n",
    "\n",
    "- Commonly used for applying discounts, formatting, or extracting subfields.\n",
    "- Helps maintain the original array shape while enhancing its content."
   ]
  },
  {
   "cell_type": "code",
   "execution_count": 0,
   "metadata": {
    "application/vnd.databricks.v1+cell": {
     "cellMetadata": {},
     "inputWidgets": {},
     "nuid": "160f6175-33a3-4dd5-90d3-c3dae4a2fed4",
     "showTitle": false,
     "tableResultSettingsMap": {},
     "title": ""
    }
   },
   "outputs": [],
   "source": [
    "SELECT\n",
    "  order_id,\n",
    "  books,\n",
    "  TRANSFORM (\n",
    "    books,\n",
    "    b -> CAST(b.subtotal * 0.8 AS INT)\n",
    "  ) AS subtotal_after_discount\n",
    "FROM orders;"
   ]
  },
  {
   "cell_type": "markdown",
   "metadata": {
    "application/vnd.databricks.v1+cell": {
     "cellMetadata": {},
     "inputWidgets": {},
     "nuid": "b82e5865-95ff-4b41-9953-13ebcd3f9c3d",
     "showTitle": false,
     "tableResultSettingsMap": {},
     "title": ""
    }
   },
   "source": [
    "## 🔧 User Defined Functions (UDFs)\n",
    "\n",
    "UDFs allow you to register **custom logic** and apply it in Spark SQL queries.\n",
    "\n",
    "- Ideal for tasks that can’t be handled by built-in SQL functions.\n",
    "- Support Python and Scala functions that can be reused across multiple queries.\n",
    "- Registered UDFs are stored in the catalog and persist across sessions."
   ]
  },
  {
   "cell_type": "code",
   "execution_count": 0,
   "metadata": {
    "application/vnd.databricks.v1+cell": {
     "cellMetadata": {},
     "inputWidgets": {},
     "nuid": "7b9b4d14-6c39-44b7-8bfe-189b41e54680",
     "showTitle": false,
     "tableResultSettingsMap": {},
     "title": ""
    }
   },
   "outputs": [],
   "source": [
    "CREATE OR REPLACE FUNCTION get_url(email STRING)\n",
    "RETURNS STRING\n",
    "\n",
    "RETURN concat(\"https://www.\", split(email, \"@\")[1])"
   ]
  },
  {
   "cell_type": "code",
   "execution_count": 0,
   "metadata": {
    "application/vnd.databricks.v1+cell": {
     "cellMetadata": {},
     "inputWidgets": {},
     "nuid": "87270fc4-eec4-4fcf-a253-c2e9c6d5ffbd",
     "showTitle": false,
     "tableResultSettingsMap": {},
     "title": ""
    }
   },
   "outputs": [],
   "source": [
    "SELECT email, get_url(email) domain\n",
    "FROM customers;"
   ]
  },
  {
   "cell_type": "markdown",
   "metadata": {
    "application/vnd.databricks.v1+cell": {
     "cellMetadata": {},
     "inputWidgets": {},
     "nuid": "fa9badaf-1596-4e87-8e48-f6e788cd9075",
     "showTitle": false,
     "tableResultSettingsMap": {},
     "title": ""
    }
   },
   "source": [
    "## 🗃️ UDF Management and Metadata\n",
    "\n",
    "- UDFs are registered as permanent database objects.\n",
    "- They can be documented and inspected using metadata commands.\n",
    "- UDFs support descriptive information such as inputs, outputs, and function usage."
   ]
  },
  {
   "cell_type": "code",
   "execution_count": 0,
   "metadata": {
    "application/vnd.databricks.v1+cell": {
     "cellMetadata": {},
     "inputWidgets": {},
     "nuid": "1f2c3498-eb2e-47bc-8ff4-bcf219de4016",
     "showTitle": false,
     "tableResultSettingsMap": {},
     "title": ""
    }
   },
   "outputs": [],
   "source": [
    "DESCRIBE FUNCTION get_url;"
   ]
  },
  {
   "cell_type": "code",
   "execution_count": 0,
   "metadata": {
    "application/vnd.databricks.v1+cell": {
     "cellMetadata": {},
     "inputWidgets": {},
     "nuid": "294acfb8-2223-4ffb-bac0-501d332f8d2a",
     "showTitle": false,
     "tableResultSettingsMap": {},
     "title": ""
    }
   },
   "outputs": [],
   "source": [
    "DESCRIBE FUNCTION EXTENDED get_url;"
   ]
  },
  {
   "cell_type": "markdown",
   "metadata": {
    "application/vnd.databricks.v1+cell": {
     "cellMetadata": {},
     "inputWidgets": {},
     "nuid": "5cb0087a-f24a-4592-bf8c-1b1f6885b488",
     "showTitle": false,
     "tableResultSettingsMap": {},
     "title": ""
    }
   },
   "source": [
    "## 💡 Evaluating Conditions with UDFs\n",
    "\n",
    "UDFs can encapsulate **conditional logic** (e.g., CASE WHEN equivalents), making them flexible for custom data transformations.\n",
    "\n",
    "- Ideal for mapping or categorizing data based on patterns or string suffixes.\n",
    "- Simplifies complex `IF-ELSE` logic in SQL queries."
   ]
  },
  {
   "cell_type": "code",
   "execution_count": 0,
   "metadata": {
    "application/vnd.databricks.v1+cell": {
     "cellMetadata": {},
     "inputWidgets": {},
     "nuid": "11679263-3d08-40a2-b008-10de1b129f2a",
     "showTitle": false,
     "tableResultSettingsMap": {},
     "title": ""
    }
   },
   "outputs": [],
   "source": [
    "CREATE FUNCTION site_type(email STRING)\n",
    "RETURNS STRING\n",
    "RETURN CASE \n",
    "          WHEN email like \"%.com\" THEN \"Commercial business\"\n",
    "          WHEN email like \"%.org\" THEN \"Non-profits organization\"\n",
    "          WHEN email like \"%.edu\" THEN \"Educational institution\"\n",
    "          ELSE concat(\"Unknow extenstion for domain: \", split(email, \"@\")[1])\n",
    "       END;"
   ]
  },
  {
   "cell_type": "code",
   "execution_count": 0,
   "metadata": {
    "application/vnd.databricks.v1+cell": {
     "cellMetadata": {},
     "inputWidgets": {},
     "nuid": "c3753550-c153-4d50-a20c-2195c6fdff45",
     "showTitle": false,
     "tableResultSettingsMap": {},
     "title": ""
    }
   },
   "outputs": [],
   "source": [
    "SELECT email, site_type(email) as domain_category\n",
    "FROM customers;"
   ]
  },
  {
   "cell_type": "code",
   "execution_count": 0,
   "metadata": {
    "application/vnd.databricks.v1+cell": {
     "cellMetadata": {},
     "inputWidgets": {},
     "nuid": "65439b94-3f49-456e-9bca-baf2354f9091",
     "showTitle": false,
     "tableResultSettingsMap": {},
     "title": ""
    }
   },
   "outputs": [],
   "source": [
    "DROP FUNCTION get_url;\n",
    "DROP FUNCTION site_type;"
   ]
  },
  {
   "cell_type": "markdown",
   "metadata": {
    "application/vnd.databricks.v1+cell": {
     "cellMetadata": {},
     "inputWidgets": {},
     "nuid": "5420ded1-289a-4d1e-ab1c-2569d46aa2a2",
     "showTitle": false,
     "tableResultSettingsMap": {},
     "title": ""
    }
   },
   "source": [
    "## 🧼 Best Practices for UDFs\n",
    "\n",
    "- Reuse existing Spark SQL functions where possible before creating a UDF.\n",
    "- Remove unused UDFs to keep the catalog clean and improve performance.\n",
    "- Document UDF behavior and use metadata tools to monitor their usage."
   ]
  }
 ],
 "metadata": {
  "application/vnd.databricks.v1+notebook": {
   "computePreferences": null,
   "dashboards": [],
   "environmentMetadata": {
    "base_environment": "",
    "environment_version": "2"
   },
   "inputWidgetPreferences": null,
   "language": "sql",
   "notebookMetadata": {
    "pythonIndentUnit": 4
   },
   "notebookName": "4 - High Order Functions and SQL UDFs",
   "widgets": {}
  },
  "language_info": {
   "name": "sql"
  }
 },
 "nbformat": 4,
 "nbformat_minor": 0
}
