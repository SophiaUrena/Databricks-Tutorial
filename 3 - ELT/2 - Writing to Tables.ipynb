{
 "cells": [
  {
   "cell_type": "markdown",
   "metadata": {
    "application/vnd.databricks.v1+cell": {
     "cellMetadata": {},
     "inputWidgets": {},
     "nuid": "666fbba4-466a-4b6d-94c1-b13790c6b229",
     "showTitle": false,
     "tableResultSettingsMap": {},
     "title": ""
    }
   },
   "source": [
    "\n",
    "<div  style=\"text-align: center; line-height: 0; padding-top: 9px;\">\n",
    "  <img src=\"https://raw.githubusercontent.com/derar-alhussein/Databricks-Certified-Data-Engineer-Associate/main/Includes/images/bookstore_schema.png\" alt=\"Databricks Learning\" style=\"width: 600\">\n",
    "</div>"
   ]
  },
  {
   "cell_type": "code",
   "execution_count": 0,
   "metadata": {
    "application/vnd.databricks.v1+cell": {
     "cellMetadata": {},
     "inputWidgets": {},
     "nuid": "ada42852-d8cb-485e-828d-baabf0c6124f",
     "showTitle": false,
     "tableResultSettingsMap": {},
     "title": ""
    }
   },
   "outputs": [],
   "source": [
    "%run ../Includes/Copy-Datasets"
   ]
  },
  {
   "cell_type": "code",
   "execution_count": 0,
   "metadata": {
    "application/vnd.databricks.v1+cell": {
     "cellMetadata": {},
     "inputWidgets": {},
     "nuid": "139b4ab6-525c-426a-a620-698163f1c89d",
     "showTitle": false,
     "tableResultSettingsMap": {},
     "title": ""
    }
   },
   "outputs": [],
   "source": [
    "--Use a CTAS statement to create the orders delta table\n",
    "CREATE TABLE orders AS\n",
    "SELECT * FROM parquet.`${dataset.bookstore}/orders`"
   ]
  },
  {
   "cell_type": "code",
   "execution_count": 0,
   "metadata": {
    "application/vnd.databricks.v1+cell": {
     "cellMetadata": {},
     "inputWidgets": {},
     "nuid": "d5d77954-ba3a-44fa-816f-ab3760711816",
     "showTitle": false,
     "tableResultSettingsMap": {},
     "title": ""
    }
   },
   "outputs": [],
   "source": [
    "SELECT * FROM orders"
   ]
  },
  {
   "cell_type": "markdown",
   "metadata": {
    "application/vnd.databricks.v1+cell": {
     "cellMetadata": {},
     "inputWidgets": {},
     "nuid": "82e51ca7-8b2b-4b89-b7eb-ea362bb28313",
     "showTitle": false,
     "tableResultSettingsMap": {},
     "title": ""
    }
   },
   "source": [
    "## 🔁 Overwriting Tables\n",
    "\n",
    "Two primary methods are used to completely overwrite data in a Delta table:\n",
    "\n",
    "- **CREATE OR REPLACE TABLE**  \n",
    "  Replaces the entire content of an existing Delta table and generates a new version in the transaction log.  \n",
    "  This enables easy rollbacks using Delta Lake’s Time Travel feature.\n",
    "\n",
    "- **INSERT OVERWRITE**  \n",
    "  Replaces data within the existing table without creating a new table.  \n",
    "  It only overwrites the records that match the current schema, preserving the table structure and metadata.\n",
    "\n",
    "Both options are useful when the goal is to **refresh or reset** data while maintaining version history and schema integrity."
   ]
  },
  {
   "cell_type": "code",
   "execution_count": 0,
   "metadata": {
    "application/vnd.databricks.v1+cell": {
     "cellMetadata": {},
     "inputWidgets": {},
     "nuid": "29a5c013-5fe7-43dd-9a98-b50380e80060",
     "showTitle": false,
     "tableResultSettingsMap": {},
     "title": ""
    }
   },
   "outputs": [],
   "source": [
    "CREATE OR REPLACE TABLE orders AS\n",
    "SELECT * FROM parquet.`${dataset.bookstore}/orders`"
   ]
  },
  {
   "cell_type": "code",
   "execution_count": 0,
   "metadata": {
    "application/vnd.databricks.v1+cell": {
     "cellMetadata": {},
     "inputWidgets": {},
     "nuid": "a8fedc8f-1f42-4152-acb9-17d9c5ed9de3",
     "showTitle": false,
     "tableResultSettingsMap": {},
     "title": ""
    }
   },
   "outputs": [],
   "source": [
    "--Version 0 is a CREATE TABLE AS SELECT operation\n",
    "--Version 1 is a CREATE OR REPLACE operation\n",
    "DESCRIBE HISTORY orders"
   ]
  },
  {
   "cell_type": "code",
   "execution_count": 0,
   "metadata": {
    "application/vnd.databricks.v1+cell": {
     "cellMetadata": {},
     "inputWidgets": {},
     "nuid": "d761fc5e-a11c-48b8-a433-65a48a5dc89b",
     "showTitle": false,
     "tableResultSettingsMap": {},
     "title": ""
    }
   },
   "outputs": [],
   "source": [
    "INSERT OVERWRITE orders\n",
    "SELECT * FROM parquet.`${dataset.bookstore}/orders`"
   ]
  },
  {
   "cell_type": "code",
   "execution_count": 0,
   "metadata": {
    "application/vnd.databricks.v1+cell": {
     "cellMetadata": {},
     "inputWidgets": {},
     "nuid": "d5820542-f222-44ba-95c7-0c727d96a771",
     "showTitle": false,
     "tableResultSettingsMap": {},
     "title": ""
    }
   },
   "outputs": [],
   "source": [
    "--Version 0 is a CREATE TABLE AS SELECT operation\n",
    "--Version 1 is a CREATE OR REPLACE operation\n",
    "--Version 2 is a WRITE operation\n",
    "DESCRIBE HISTORY orders"
   ]
  },
  {
   "cell_type": "code",
   "execution_count": 0,
   "metadata": {
    "application/vnd.databricks.v1+cell": {
     "cellMetadata": {},
     "inputWidgets": {},
     "nuid": "c316d739-760a-4e79-87d7-d65737129f01",
     "showTitle": false,
     "tableResultSettingsMap": {},
     "title": ""
    }
   },
   "outputs": [],
   "source": [
    "--This would fail due do schma mismatch detected\n",
    "INSERT OVERWRITE orders\n",
    "SELECT *, current_timestamp() FROM parquet.`${dataset.bookstore}/orders`"
   ]
  },
  {
   "cell_type": "markdown",
   "metadata": {
    "application/vnd.databricks.v1+cell": {
     "cellMetadata": {},
     "inputWidgets": {},
     "nuid": "0c47e7ef-5419-49b5-a673-517ec4cf80ff",
     "showTitle": false,
     "tableResultSettingsMap": {},
     "title": ""
    }
   },
   "source": [
    "## ➕ Appending Data\n",
    "\n",
    "To add new records to an existing Delta table, data can be appended using standard SQL `INSERT INTO` statements.\n",
    "\n",
    "- This method simply adds rows to the current table without modifying existing data.\n",
    "- While easy to use, it does **not perform deduplication**, so duplicate records may occur if not handled separately.\n",
    "\n",
    "Appending is commonly used for incremental data ingestion or batch updates."
   ]
  },
  {
   "cell_type": "code",
   "execution_count": 0,
   "metadata": {
    "application/vnd.databricks.v1+cell": {
     "cellMetadata": {},
     "inputWidgets": {},
     "nuid": "31c4074d-5b4c-45d0-a3f1-d93581a1bba2",
     "showTitle": false,
     "tableResultSettingsMap": {},
     "title": ""
    }
   },
   "outputs": [],
   "source": [
    "INSERT INTO orders\n",
    "SELECT * FROM parquet.`${dataset.bookstore}/orders-new`"
   ]
  },
  {
   "cell_type": "code",
   "execution_count": 0,
   "metadata": {
    "application/vnd.databricks.v1+cell": {
     "cellMetadata": {},
     "inputWidgets": {},
     "nuid": "7d1f1395-2cb5-4ff5-9f47-2de273d34d38",
     "showTitle": false,
     "tableResultSettingsMap": {},
     "title": ""
    }
   },
   "outputs": [],
   "source": [
    "SELECT count(*) FROM orders"
   ]
  },
  {
   "cell_type": "markdown",
   "metadata": {
    "application/vnd.databricks.v1+cell": {
     "cellMetadata": {},
     "inputWidgets": {},
     "nuid": "76750c08-9f7e-4923-8f42-25c1014508f2",
     "showTitle": false,
     "tableResultSettingsMap": {},
     "title": ""
    }
   },
   "source": [
    "## 🔀 Merging Data (Upserts)\n",
    "\n",
    "Delta Lake supports the **MERGE INTO** operation, which combines inserts, updates, and deletes into a single transactional command.\n",
    "\n",
    "- This approach is ideal for keeping datasets up to date by **upserting** data — inserting new rows and updating existing ones based on a matching condition.\n",
    "- It ensures **data integrity** and prevents duplication.\n",
    "- Commonly used in real-world scenarios such as syncing data between systems or integrating incremental updates."
   ]
  },
  {
   "cell_type": "code",
   "execution_count": 0,
   "metadata": {
    "application/vnd.databricks.v1+cell": {
     "cellMetadata": {},
     "inputWidgets": {},
     "nuid": "92b3857f-b3e4-4aaa-9d24-d226367d5c64",
     "showTitle": false,
     "tableResultSettingsMap": {},
     "title": ""
    }
   },
   "outputs": [],
   "source": [
    "--Create a temporary view of the new customer data to MERGE INTO the customers table\n",
    "CREATE OR REPLACE TEMP VIEW customers_updates AS \n",
    "SELECT * FROM json.`${dataset.bookstore}/customers-json-new`;\n",
    "\n",
    "MERGE INTO customers c\n",
    "USING customers_updates u\n",
    "ON c.customer_id = u.customer_id\n",
    "WHEN MATCHED AND c.email IS NULL AND u.email IS NOT NULL THEN\n",
    "  UPDATE SET email = u.email, updated = u.updated\n",
    "WHEN NOT MATCHED THEN INSERT *"
   ]
  },
  {
   "cell_type": "code",
   "execution_count": 0,
   "metadata": {
    "application/vnd.databricks.v1+cell": {
     "cellMetadata": {},
     "inputWidgets": {},
     "nuid": "3cce1364-1953-478f-9116-dfa18a34713c",
     "showTitle": false,
     "tableResultSettingsMap": {},
     "title": ""
    }
   },
   "outputs": [],
   "source": [
    "--Another example\n",
    "CREATE OR REPLACE TEMP VIEW books_updates\n",
    "   (book_id STRING, title STRING, author STRING, category STRING, price DOUBLE)\n",
    "USING CSV\n",
    "OPTIONS (\n",
    "  path = \"${dataset.bookstore}/books-csv-new\",\n",
    "  header = \"true\",\n",
    "  delimiter = \";\"\n",
    ");\n",
    "\n",
    "SELECT * FROM books_updates"
   ]
  },
  {
   "cell_type": "code",
   "execution_count": 0,
   "metadata": {
    "application/vnd.databricks.v1+cell": {
     "cellMetadata": {},
     "inputWidgets": {},
     "nuid": "b79fa26f-619f-4061-a5bf-4b1137243357",
     "showTitle": false,
     "tableResultSettingsMap": {},
     "title": ""
    }
   },
   "outputs": [],
   "source": [
    "MERGE INTO books b\n",
    "USING books_updates u\n",
    "ON b.book_id = u.book_id AND b.title = u.title\n",
    "WHEN NOT MATCHED AND u.category = 'Computer Science' THEN \n",
    "  INSERT *"
   ]
  }
 ],
 "metadata": {
  "application/vnd.databricks.v1+notebook": {
   "computePreferences": null,
   "dashboards": [],
   "environmentMetadata": {
    "base_environment": "",
    "environment_version": "2"
   },
   "inputWidgetPreferences": null,
   "language": "sql",
   "notebookMetadata": {
    "pythonIndentUnit": 4
   },
   "notebookName": "2 - Writing to Tables",
   "widgets": {}
  },
  "language_info": {
   "name": "sql"
  }
 },
 "nbformat": 4,
 "nbformat_minor": 0
}
