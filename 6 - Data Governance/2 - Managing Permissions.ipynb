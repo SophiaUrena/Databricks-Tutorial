{
 "cells": [
  {
   "cell_type": "markdown",
   "metadata": {
    "application/vnd.databricks.v1+cell": {
     "cellMetadata": {},
     "inputWidgets": {},
     "nuid": "5f046ee9-bf92-4aff-9fb9-ea7ee5b4d509",
     "showTitle": false,
     "tableResultSettingsMap": {},
     "title": ""
    }
   },
   "source": [
    "## 🏗️ Creating Database and Table\n",
    "\n",
    "- Create a database named **`HR DB`**.\n",
    "- Define a table called **`employees`** with the following columns:\n",
    "  - `ID`\n",
    "  - `Name`\n",
    "  - `Salary`\n",
    "  - `City`\n",
    "- Insert sample data into the `employees` table for demonstration purposes."
   ]
  },
  {
   "cell_type": "code",
   "execution_count": 0,
   "metadata": {
    "application/vnd.databricks.v1+cell": {
     "cellMetadata": {},
     "inputWidgets": {},
     "nuid": "2771a5af-3ff2-467d-92b9-d6312556d2bd",
     "showTitle": false,
     "tableResultSettingsMap": {},
     "title": ""
    }
   },
   "outputs": [],
   "source": [
    "CREATE DATABASE IF NOT EXISTS hive_metastore.hr_db\n",
    "LOCATION 'dbfs:/mnt/demo/hr_db.db';"
   ]
  },
  {
   "cell_type": "code",
   "execution_count": 0,
   "metadata": {
    "application/vnd.databricks.v1+cell": {
     "cellMetadata": {},
     "inputWidgets": {},
     "nuid": "8322556e-a6e7-4c19-9ffb-671447fd8d3e",
     "showTitle": false,
     "tableResultSettingsMap": {},
     "title": ""
    }
   },
   "outputs": [],
   "source": [
    "CREATE TABLE hive_metastore.hr_db.employees (id INT, name STRING, salary DOUBLE, city STRING);"
   ]
  },
  {
   "cell_type": "code",
   "execution_count": 0,
   "metadata": {
    "application/vnd.databricks.v1+cell": {
     "cellMetadata": {},
     "inputWidgets": {},
     "nuid": "ef8ddebc-b25d-4f54-8166-f1097f1079aa",
     "showTitle": false,
     "tableResultSettingsMap": {},
     "title": ""
    }
   },
   "outputs": [],
   "source": [
    "INSERT INTO hive_metastore.hr_db.employees\n",
    "VALUES (1, \"Anna\", 2500, \"Paris\"),\n",
    "       (2, \"Thomas\", 3000, \"London\"),\n",
    "       (3, \"Bilal\", 3500, \"Paris\"),\n",
    "       (4, \"Maya\", 2000, \"Paris\"),\n",
    "       (5, \"Sophie\", 2500, \"London\"),\n",
    "       (6, \"Adam\", 3500, \"London\"),\n",
    "       (7, \"Ali\", 3000, \"Paris\");\n"
   ]
  },
  {
   "cell_type": "markdown",
   "metadata": {
    "application/vnd.databricks.v1+cell": {
     "cellMetadata": {},
     "inputWidgets": {},
     "nuid": "157e152b-420e-4c61-a55a-d43565b9b6e8",
     "showTitle": false,
     "tableResultSettingsMap": {},
     "title": ""
    }
   },
   "source": [
    "## 👁️ Creating a View\n",
    "\n",
    "- Create a **view** that filters employees located in **Paris**.\n",
    "- This allows for focused querying and controlled data exposure."
   ]
  },
  {
   "cell_type": "code",
   "execution_count": 0,
   "metadata": {
    "application/vnd.databricks.v1+cell": {
     "cellMetadata": {},
     "inputWidgets": {},
     "nuid": "528a0b55-b936-464a-ad25-bc41b51b784b",
     "showTitle": false,
     "tableResultSettingsMap": {},
     "title": ""
    }
   },
   "outputs": [],
   "source": [
    "CREATE VIEW hive_metastore.hr_db.paris_emplyees_vw\n",
    "AS SELECT * FROM hive_metastore.hr_db.employees WHERE city = 'Paris';"
   ]
  },
  {
   "cell_type": "markdown",
   "metadata": {
    "application/vnd.databricks.v1+cell": {
     "cellMetadata": {},
     "inputWidgets": {},
     "nuid": "24a66383-4a6e-4fb2-a5d0-d3244fdab88b",
     "showTitle": false,
     "tableResultSettingsMap": {},
     "title": ""
    }
   },
   "source": [
    "## 🔐 Configureing Permisions\n",
    "Setting permissions ensures proper data governance. Permissions are granted to the **`HR Team`** group, including:\n",
    "\n",
    "- `SELECT` – Read data\n",
    "- `MODIFY` – Update, delete, or insert data\n",
    "- `READ_METADATA` – View table and schema details\n",
    "- `CREATE` – Create new objects in the database\n",
    "- `USAGE` – Required to interact with the database and its objects\n",
    "\n",
    "> 🔸 **USAGE** is a foundational permission and must be granted to enable all other privileges.\n"
   ]
  },
  {
   "cell_type": "code",
   "execution_count": 0,
   "metadata": {
    "application/vnd.databricks.v1+cell": {
     "cellMetadata": {},
     "inputWidgets": {},
     "nuid": "248e42ab-98c4-453e-9346-4f0367a7fd45",
     "showTitle": false,
     "tableResultSettingsMap": {},
     "title": ""
    }
   },
   "outputs": [],
   "source": [
    "GRANT SELECT, MODIFY, READ_METADATA, CREATE ON SCHEMA hive_metastore.hr_db TO hr_team;"
   ]
  },
  {
   "cell_type": "code",
   "execution_count": 0,
   "metadata": {
    "application/vnd.databricks.v1+cell": {
     "cellMetadata": {},
     "inputWidgets": {},
     "nuid": "63ff8281-8bb1-48d5-8911-2c5f7c6ce986",
     "showTitle": false,
     "tableResultSettingsMap": {},
     "title": ""
    }
   },
   "outputs": [],
   "source": [
    "GRANT USAGE ON SCHEMA hive_metastore.hr_db TO hr_team;"
   ]
  },
  {
   "cell_type": "code",
   "execution_count": 0,
   "metadata": {
    "application/vnd.databricks.v1+cell": {
     "cellMetadata": {},
     "inputWidgets": {},
     "nuid": "0f2f18cc-34b8-4065-94d2-9c0d45f4880b",
     "showTitle": false,
     "tableResultSettingsMap": {},
     "title": ""
    }
   },
   "outputs": [],
   "source": [
    "GRANT SELECT ON VIEW hive_metastore.hr_db.paris_emplyees_vw TO `adam@derar.cloud`;"
   ]
  },
  {
   "cell_type": "code",
   "execution_count": 0,
   "metadata": {
    "application/vnd.databricks.v1+cell": {
     "cellMetadata": {},
     "inputWidgets": {},
     "nuid": "5b8c015f-018a-42e6-b1ff-142900ee5f49",
     "showTitle": false,
     "tableResultSettingsMap": {},
     "title": ""
    }
   },
   "outputs": [],
   "source": [
    "SHOW GRANTS ON SCHEMA hive_metastore.hr_db;"
   ]
  },
  {
   "cell_type": "code",
   "execution_count": 0,
   "metadata": {
    "application/vnd.databricks.v1+cell": {
     "cellMetadata": {},
     "inputWidgets": {},
     "nuid": "01676397-a954-48be-a570-062c7123a496",
     "showTitle": false,
     "tableResultSettingsMap": {},
     "title": ""
    }
   },
   "outputs": [],
   "source": [
    "SHOW GRANTS ON VIEW hive_metastore.hr_db.paris_emplyees_vw;"
   ]
  },
  {
   "cell_type": "markdown",
   "metadata": {
    "application/vnd.databricks.v1+cell": {
     "cellMetadata": {},
     "inputWidgets": {},
     "nuid": "dcebc98e-c046-4448-b586-26c7499ba255",
     "showTitle": false,
     "tableResultSettingsMap": {},
     "title": ""
    }
   },
   "source": [
    "## 🧾 SQL Commands for Access Management\n",
    "\n",
    "- Use `GRANT` statements to assign specific privileges to users or groups.\n",
    "- Provide individual access to users outside of the `HR Team` when needed.\n",
    "- Run `SHOW GRANTS` to view current privileges for users or objects.\n",
    "- Confirm that the `HR Team` inherits privileges from the database owner role.\n",
    "\n",
    "---\n",
    "\n",
    "## 🧰 Using the Data Explorer Tool\n",
    "\n",
    "Databricks **Data Explorer** provides a UI to manage access visually.\n",
    "\n",
    "Tasks include:\n",
    "- Reviewing and modifying permissions\n",
    "- Revoking access from users or groups\n",
    "- Changing database or object ownership\n",
    "- Granting metadata access to **all users** for transparency\n",
    "\n",
    "---\n",
    "\n",
    "## 📋 Managing Table and View Permissions\n",
    "\n",
    "- Permissions can also be set at the **table** and **view** level.\n",
    "- Use Data Explorer to manage access quickly and intuitively.\n",
    "\n",
    "---\n",
    "\n",
    "## 📂 Managing the `ANY FILE` Object\n",
    "\n",
    "- Permissions for accessing **unstructured or file-based data** via `ANY FILE` must be set using the **SQL editor**.\n",
    "- This control allows fine-grained access to raw files in cloud storage.\n",
    "\n",
    "---\n",
    "\n",
    "## 🕵️ Query History Feature\n",
    "\n",
    "- The **Query History** logs all SQL queries executed in the SQL workspace.\n",
    "- Includes queries submitted via Data Explorer, allowing for auditing and transparency.\n",
    "\n",
    "---\n",
    "\n",
    "By leveraging Databricks SQL and its built-in governance tools, users can securely manage data access, create reusable views, and monitor all interactions with their data assets."
   ]
  }
 ],
 "metadata": {
  "application/vnd.databricks.v1+notebook": {
   "computePreferences": null,
   "dashboards": [],
   "environmentMetadata": {
    "base_environment": "",
    "environment_version": "2"
   },
   "inputWidgetPreferences": null,
   "language": "sql",
   "notebookMetadata": {
    "pythonIndentUnit": 4
   },
   "notebookName": "2 - Managing Permissions",
   "widgets": {}
  },
  "language_info": {
   "name": "sql"
  }
 },
 "nbformat": 4,
 "nbformat_minor": 0
}
