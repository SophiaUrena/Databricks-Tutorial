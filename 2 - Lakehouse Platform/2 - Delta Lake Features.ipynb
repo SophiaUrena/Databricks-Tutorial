{
 "cells": [
  {
   "cell_type": "markdown",
   "metadata": {
    "application/vnd.databricks.v1+cell": {
     "cellMetadata": {},
     "inputWidgets": {},
     "nuid": "f8c774df-2373-4c20-8d8d-a28342c73b10",
     "showTitle": false,
     "tableResultSettingsMap": {},
     "title": ""
    }
   },
   "source": [
    "# Advanced Delta Lake Features & Optimization Techniques\n",
    "\n",
    "---\n",
    "\n",
    "## 📚 Lecture Overview\n",
    "\n",
    "This section focuses on **advanced Delta Lake features** and practical optimization techniques to improve:\n",
    "\n",
    "- Data reliability\n",
    "- Query performance\n",
    "- Storage management\n"
   ]
  },
  {
   "cell_type": "markdown",
   "metadata": {
    "application/vnd.databricks.v1+cell": {
     "cellMetadata": {
      "byteLimit": 2048000,
      "rowLimit": 10000
     },
     "inputWidgets": {},
     "nuid": "2670a50a-90c9-420a-9289-e567d83f31cb",
     "showTitle": false,
     "tableResultSettingsMap": {},
     "title": ""
    }
   },
   "source": [
    "## 🔑 Key Features of Delta Lake"
   ]
  },
  {
   "cell_type": "markdown",
   "metadata": {
    "application/vnd.databricks.v1+cell": {
     "cellMetadata": {
      "byteLimit": 2048000,
      "rowLimit": 10000
     },
     "inputWidgets": {},
     "nuid": "66095dfb-ee5a-4d92-aaac-bdbf4b162644",
     "showTitle": false,
     "tableResultSettingsMap": {},
     "title": ""
    }
   },
   "source": [
    "### Time Travel\n",
    "\n",
    "Delta Lake automatically **version-controls** every modification (insert, update, delete).  \n",
    "**Time Travel** allows users to query or restore previous versions of a table.\n",
    "\n",
    "---\n",
    "\n",
    "### 🔹 Usage:\n",
    "\n",
    "- **Query by Timestamp:**\n",
    "\n",
    "```sql\n",
    "SELECT * FROM table_name TIMESTAMP AS OF 'YYYY-MM-DD HH:MM:SS';\n",
    "\n",
    "```\n",
    "- **Query by Version Number:**\n",
    "\n",
    "```sql\n",
    "SELECT * FROM table_name VERSION AS OF [version_number];\n",
    "\n",
    "```\n",
    "\n",
    "Or\n",
    "\n",
    "```sql\n",
    "SELECT * FROM table_name @v[version_number];\n",
    "\n",
    "```"
   ]
  },
  {
   "cell_type": "markdown",
   "metadata": {
    "application/vnd.databricks.v1+cell": {
     "cellMetadata": {},
     "inputWidgets": {},
     "nuid": "3f5872d2-904c-4e8e-8f32-36e97637ce28",
     "showTitle": false,
     "tableResultSettingsMap": {},
     "title": ""
    }
   },
   "source": [
    "### Restoring a Table"
   ]
  },
  {
   "cell_type": "code",
   "execution_count": 0,
   "metadata": {
    "application/vnd.databricks.v1+cell": {
     "cellMetadata": {
      "byteLimit": 2048000,
      "rowLimit": 10000
     },
     "inputWidgets": {},
     "nuid": "cbfc0361-d134-4aab-869f-aa8d702d83de",
     "showTitle": false,
     "tableResultSettingsMap": {},
     "title": ""
    }
   },
   "outputs": [],
   "source": [
    "RESTORE TABLE table_name TO VERSION AS OF [version_number];"
   ]
  },
  {
   "cell_type": "code",
   "execution_count": 0,
   "metadata": {
    "application/vnd.databricks.v1+cell": {
     "cellMetadata": {},
     "inputWidgets": {},
     "nuid": "cc05f730-a043-4d9b-a405-bfdb534f26fd",
     "showTitle": false,
     "tableResultSettingsMap": {},
     "title": ""
    }
   },
   "outputs": [],
   "source": [
    "RESTORE TABLE table_name TO TIMESTAMP AS OF 'YYYY-MM-DD HH:MM:SS';"
   ]
  },
  {
   "cell_type": "markdown",
   "metadata": {
    "application/vnd.databricks.v1+cell": {
     "cellMetadata": {},
     "inputWidgets": {},
     "nuid": "0976d043-b50c-4925-9961-2c6e5611e449",
     "showTitle": false,
     "tableResultSettingsMap": {},
     "title": ""
    }
   },
   "source": [
    "### Optimization Techniques for Delta Tables\n"
   ]
  },
  {
   "cell_type": "markdown",
   "metadata": {
    "application/vnd.databricks.v1+cell": {
     "cellMetadata": {
      "byteLimit": 2048000,
      "rowLimit": 10000
     },
     "inputWidgets": {},
     "nuid": "4455bc8b-6174-4bfd-967f-09d43bb4ab9e",
     "showTitle": false,
     "tableResultSettingsMap": {},
     "title": ""
    }
   },
   "source": [
    "#### 🔹 File Compaction (OPTIMIZE Command)\n",
    "\n",
    "**Purpose:**\n",
    "\n",
    "- Combines small files into larger files.\n",
    "- Reduces the number of files scanned during queries.\n",
    "- Improves overall query performance.\n",
    "\n",
    "---\n",
    "\n",
    "**Command Example:**\n",
    "\n",
    "```sql\n",
    "OPTIMIZE table_name;\n"
   ]
  },
  {
   "cell_type": "markdown",
   "metadata": {
    "application/vnd.databricks.v1+cell": {
     "cellMetadata": {},
     "inputWidgets": {},
     "nuid": "4f250b2d-2f76-40ca-937d-a7172305e45a",
     "showTitle": false,
     "tableResultSettingsMap": {},
     "title": ""
    }
   },
   "source": [
    "#### 🔹 Z-Order Indexing\n",
    "\n",
    "**Purpose:**\n",
    "\n",
    "- Organizes data within files based on specific columns.\n",
    "- Minimizes data scanned when filtering on those columns.\n",
    "- Particularly effective on large datasets with frequent filtering.\n",
    "\n",
    "---\n",
    "\n",
    "**Command Example:**\n",
    "\n",
    "```sql\n",
    "OPTIMIZE table_name ZORDER BY (column_name);\n"
   ]
  },
  {
   "cell_type": "markdown",
   "metadata": {
    "application/vnd.databricks.v1+cell": {
     "cellMetadata": {},
     "inputWidgets": {},
     "nuid": "146c746e-d6da-4913-8f00-97099311dd4b",
     "showTitle": false,
     "tableResultSettingsMap": {},
     "title": ""
    }
   },
   "source": [
    "### Garbage Collection of Unused Data Files"
   ]
  },
  {
   "cell_type": "markdown",
   "metadata": {
    "application/vnd.databricks.v1+cell": {
     "cellMetadata": {},
     "inputWidgets": {},
     "nuid": "79f44f71-51d1-4871-8902-07606f71babc",
     "showTitle": false,
     "tableResultSettingsMap": {},
     "title": ""
    }
   },
   "source": [
    "#### 🗑️ Vacuum Command:\n",
    "\n",
    "**Purpose:**\n",
    "\n",
    "- Deletes obsolete data files older than the specified retention period.\n",
    "- Frees up storage space by removing unused data.\n",
    "\n",
    "---\n",
    "\n",
    "**Default Retention Period:**  \n",
    "7 days\n",
    "\n",
    "---\n",
    "\n",
    "**Command Example:**\n",
    "\n",
    "```sql\n",
    "VACUUM table_name RETAIN 168 HOURS; -- Retains data for 7 days"
   ]
  }
 ],
 "metadata": {
  "application/vnd.databricks.v1+notebook": {
   "computePreferences": null,
   "dashboards": [],
   "environmentMetadata": {
    "base_environment": "",
    "environment_version": "2"
   },
   "inputWidgetPreferences": null,
   "language": "sql",
   "notebookMetadata": {},
   "notebookName": "2 - Delta Lake Features",
   "widgets": {}
  },
  "language_info": {
   "name": "sql"
  }
 },
 "nbformat": 4,
 "nbformat_minor": 0
}
