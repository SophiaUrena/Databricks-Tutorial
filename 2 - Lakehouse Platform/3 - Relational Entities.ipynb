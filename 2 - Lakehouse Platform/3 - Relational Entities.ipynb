{
 "cells": [
  {
   "cell_type": "markdown",
   "metadata": {
    "application/vnd.databricks.v1+cell": {
     "cellMetadata": {},
     "inputWidgets": {},
     "nuid": "426c6a77-e31a-4158-b202-793806d5fdde",
     "showTitle": false,
     "tableResultSettingsMap": {},
     "title": ""
    }
   },
   "source": [
    "# Overview of Databricks Databases, Tables, & Hive Metastore\n",
    "\n",
    "In Databricks, data is organized using relational concepts:\n",
    "\n",
    "- **Databases (Schemas)**\n",
    "- **Tables (Managed & External)**\n",
    "\n",
    "Metadata is managed through the **Hive Metastore**, which tracks databases, tables, and partitions across the workspace.\n",
    "\n",
    "Understanding how Databricks structures data is essential for effective data management and organization."
   ]
  },
  {
   "cell_type": "markdown",
   "metadata": {
    "application/vnd.databricks.v1+cell": {
     "cellMetadata": {},
     "inputWidgets": {},
     "nuid": "d095aed8-7cd3-4244-a52a-1c874cc3d276",
     "showTitle": false,
     "tableResultSettingsMap": {},
     "title": ""
    }
   },
   "source": [
    "## 🗂️ Databases in Databricks\n",
    "\n",
    "### 🔹 Definition:\n",
    "\n",
    "- A **database in Databricks** is equivalent to a **schema** in the Hive metastore.\n",
    "- It acts as a namespace for organizing tables.\n",
    "\n",
    "---\n",
    "\n",
    "### 🔹 Creating a Database:\n",
    "\n",
    "You can create a database using:\n",
    "\n",
    "```sql\n",
    "CREATE DATABASE database_name;\n",
    "```\n",
    "Or\n",
    "\n",
    "```sql\n",
    "CREATE SCHEMA database_name;\n",
    "```"
   ]
  },
  {
   "cell_type": "markdown",
   "metadata": {
    "application/vnd.databricks.v1+cell": {
     "cellMetadata": {},
     "inputWidgets": {},
     "nuid": "a36a511f-7c4f-4645-a187-431316e103c8",
     "showTitle": false,
     "tableResultSettingsMap": {},
     "title": ""
    }
   },
   "source": [
    "## 🐝 Hive Metastore in Databricks\n",
    "\n",
    "The **Hive Metastore** is a central repository that stores metadata about:\n",
    "\n",
    "- Databases (schemas)\n",
    "- Tables (managed and external)\n",
    "- Partitions\n",
    "- Columns and data types\n",
    "- Table locations and formats\n",
    "\n",
    "---\n",
    "\n",
    "### 🔹 Key Points:\n",
    "\n",
    "- Every **Databricks workspace** is connected to a **shared Hive metastore**.\n",
    "- This metastore is accessible by all clusters within the workspace.\n",
    "- It allows users to query and manage metadata in a consistent and centralized way.\n",
    "- The metastore simplifies data governance and ensures that table definitions and data locations are tracked and organized.\n",
    "\n",
    "---\n",
    "\n",
    "### 🔹 Example: Viewing Metastore Contents\n",
    "\n",
    "```sql\n",
    "SHOW DATABASES;\n",
    "SHOW TABLES;\n",
    "DESCRIBE DATABASE database_name;\n"
   ]
  },
  {
   "cell_type": "markdown",
   "metadata": {
    "application/vnd.databricks.v1+cell": {
     "cellMetadata": {},
     "inputWidgets": {},
     "nuid": "3477ce45-31e8-4369-b543-d2d44bffff64",
     "showTitle": false,
     "tableResultSettingsMap": {},
     "title": ""
    }
   },
   "source": [
    "## 🗂️ Databases (Schemas) in Databricks\n",
    "\n",
    "### 🔹 What is a Database?\n",
    "\n",
    "- In Databricks, a **Database** = **Schema** in the Hive Metastore.\n",
    "- Used to logically group tables.\n",
    "\n",
    "---\n",
    "\n",
    "### 🔹 Default Database:\n",
    "\n",
    "- Every workspace comes with a **`default` database**.\n",
    "- Tables created without specifying a database go here.\n",
    "- Data files are stored in:\n",
    "\n",
    "```sql\n",
    "CREATE DATABASE sales_db;\n",
    "CREATE SCHEMA marketing_db;\n",
    "\n"
   ]
  },
  {
   "cell_type": "markdown",
   "metadata": {
    "application/vnd.databricks.v1+cell": {
     "cellMetadata": {},
     "inputWidgets": {},
     "nuid": "3043f26f-482a-4d6f-8e09-6b2a3d92cce8",
     "showTitle": false,
     "tableResultSettingsMap": {},
     "title": ""
    }
   },
   "source": [
    "## 📂 Custom Storage Paths for Databases\n",
    "\n",
    "By default, Databricks stores database files in:\n",
    "\n",
    "`/user/hive/warehouse`\n",
    "\n",
    "However, you can customize the storage location of a database by using the **`LOCATION`** keyword when creating it.\n",
    "\n",
    "---\n",
    "\n",
    "### 🔹 Why Use Custom Storage Paths?\n",
    "\n",
    "- Organize data in specific cloud storage mounts (e.g., S3, ADLS, GCS).\n",
    "- Separate environments (development, production, staging).\n",
    "- Store data outside of the default Hive directory for better control.\n",
    "\n",
    "---\n",
    "\n",
    "### 🔹 Example:\n",
    "\n",
    "```sql\n",
    "CREATE DATABASE sales_db\n",
    "LOCATION '/mnt/sales-data/sales_db';\n"
   ]
  },
  {
   "cell_type": "markdown",
   "metadata": {
    "application/vnd.databricks.v1+cell": {
     "cellMetadata": {},
     "inputWidgets": {},
     "nuid": "c33d5577-26d2-4482-9d41-5f7dd8791606",
     "showTitle": false,
     "tableResultSettingsMap": {},
     "title": ""
    }
   },
   "source": [
    "## 📄 Tables in Databricks\n",
    "\n",
    "### 🔹 Types of Tables:\n",
    "\n",
    "---\n",
    "\n",
    "### 1️⃣ Managed Tables:\n",
    "\n",
    "- Data is stored **inside** the database directory.\n",
    "- Hive Metastore manages both **metadata and data files**.\n",
    "- Dropping the table deletes both **metadata and underlying data files**.\n",
    "\n",
    "---\n",
    "\n",
    "### 2️⃣ External Tables:\n",
    "\n",
    "- Data stored **outside** the database directory.\n",
    "- Hive Metastore manages only **metadata**.\n",
    "- Dropping the table removes **only metadata**, leaving data files untouched.\n",
    "\n",
    "---\n",
    "\n",
    "### 🔹 Example: Creating an External Table\n",
    "\n",
    "```sql\n",
    "CREATE TABLE default.external_sales\n",
    "USING DELTA\n",
    "LOCATION '/mnt/sales-data/external_sales';\n"
   ]
  }
 ],
 "metadata": {
  "application/vnd.databricks.v1+notebook": {
   "computePreferences": null,
   "dashboards": [],
   "environmentMetadata": {
    "base_environment": "",
    "environment_version": "2"
   },
   "inputWidgetPreferences": null,
   "language": "sql",
   "notebookMetadata": {
    "pythonIndentUnit": 4
   },
   "notebookName": "3 - Relational Entities",
   "widgets": {}
  },
  "language_info": {
   "name": "sql"
  }
 },
 "nbformat": 4,
 "nbformat_minor": 0
}
