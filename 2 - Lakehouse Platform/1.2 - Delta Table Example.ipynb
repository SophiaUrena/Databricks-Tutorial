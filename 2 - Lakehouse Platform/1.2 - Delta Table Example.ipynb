{
 "cells": [
  {
   "cell_type": "markdown",
   "metadata": {
    "application/vnd.databricks.v1+cell": {
     "cellMetadata": {
      "byteLimit": 2048000,
      "rowLimit": 10000
     },
     "inputWidgets": {},
     "nuid": "a263af6b-0bb5-48ec-9932-0e1abdcf341c",
     "showTitle": false,
     "tableResultSettingsMap": {},
     "title": ""
    }
   },
   "source": [
    "# Setting the Catalog\n",
    "\n",
    "We are switching to the `workspace` catalog.  \n",
    "In Unity Catalog, all tables are organized under catalogs and schemas.  \n",
    "Here, we use the `workspace` catalog and default schema.\n"
   ]
  },
  {
   "cell_type": "code",
   "execution_count": 0,
   "metadata": {
    "application/vnd.databricks.v1+cell": {
     "cellMetadata": {
      "byteLimit": 2048000,
      "rowLimit": 10000
     },
     "inputWidgets": {},
     "nuid": "c3318c2e-1988-432b-9a9f-8848473aafaf",
     "showTitle": false,
     "tableResultSettingsMap": {},
     "title": ""
    }
   },
   "outputs": [],
   "source": [
    "USE CATALOG workspace;"
   ]
  },
  {
   "cell_type": "markdown",
   "metadata": {
    "application/vnd.databricks.v1+cell": {
     "cellMetadata": {},
     "inputWidgets": {},
     "nuid": "d8757c0f-8601-46dd-8966-b2b5e44ce382",
     "showTitle": false,
     "tableResultSettingsMap": {},
     "title": ""
    }
   },
   "source": [
    "# Creating the Delta Lake Table: `employees`\n",
    "\n",
    "We are creating a Delta table named `employees` with:\n",
    "\n",
    "- `id` (Unique Employee ID)\n",
    "- `name` (Employee Name)\n",
    "- `salary` (Employee Salary)\n",
    "\n",
    "Delta Lake format ensures:\n",
    "\n",
    "- ACID transactions\n",
    "- Versioning\n",
    "- Scalable metadata management\n"
   ]
  },
  {
   "cell_type": "code",
   "execution_count": 0,
   "metadata": {
    "application/vnd.databricks.v1+cell": {
     "cellMetadata": {
      "byteLimit": 2048000,
      "rowLimit": 10000
     },
     "inputWidgets": {},
     "nuid": "3d7fee6b-504d-49ef-ad49-c615c7fb77b9",
     "showTitle": false,
     "tableResultSettingsMap": {},
     "title": ""
    }
   },
   "outputs": [],
   "source": [
    "-- Create a delta employees table\n",
    "CREATE OR REPLACE TABLE employees\n",
    "  (id INT, name STRING, salary DOUBLE)\n",
    "USING DELTA;"
   ]
  },
  {
   "cell_type": "markdown",
   "metadata": {
    "application/vnd.databricks.v1+cell": {
     "cellMetadata": {},
     "inputWidgets": {},
     "nuid": "6f9e6c32-404d-4e90-8a07-584882fa1bb8",
     "showTitle": false,
     "tableResultSettingsMap": {},
     "title": ""
    }
   },
   "source": [
    "### Exploring the Created Table in Catalog\n",
    "\n",
    "After running the `CREATE TABLE` command:\n",
    "\n",
    "1. Navigate to the **Catalog** tab (left sidebar).\n",
    "2. Under **workspace → default**, you'll see the newly created **employees** table.\n",
    "3. Click on **employees** to view the table's schema (columns: `id`, `name`, `salary`).\n",
    "\n",
    "---\n",
    "\n",
    "### Additional Tabs in Catalog:\n",
    "\n",
    "- **Sample Data:**  \n",
    "  Preview a sample of the table’s data (even before querying).\n",
    "\n",
    "- **Details:**  \n",
    "  Shows metadata like:\n",
    "  - Storage location (DBFS path)\n",
    "  - Table format (Delta by default)\n",
    "  - Created by and timestamps\n",
    "\n",
    "- **Permissions:**  \n",
    "  Manage access permissions for the table (who can read/write).\n",
    "\n",
    "- **History:**  \n",
    "  Displays the full version history of the table (creation, inserts, updates).\n",
    "\n",
    "- **Lineage:**  \n",
    "  Visual representation of upstream and downstream data dependencies (where data comes from and where it goes).\n",
    "\n",
    "- **Insights:**  \n",
    "  Basic stats and information about the table contents (e.g., row count, size).\n",
    "\n",
    "- **Quality (if enabled):**  \n",
    "  Shows applied data quality checks (constraints, expectations, validations).\n",
    "\n",
    "---\n",
    "\n",
    "> **Tip:**  \n",
    "Use the Catalog interface for easy table management without writing SQL, especially useful for inspecting structure, tracking history, and setting permissions!\n"
   ]
  },
  {
   "cell_type": "markdown",
   "metadata": {
    "application/vnd.databricks.v1+cell": {
     "cellMetadata": {},
     "inputWidgets": {},
     "nuid": "657fa4da-9d40-4dc3-acfe-2a9163726b8d",
     "showTitle": false,
     "tableResultSettingsMap": {},
     "title": ""
    }
   },
   "source": [
    "# Inserting Data into the Delta Table\n",
    "\n",
    "We insert Sanrio character employees in multiple transactions.  \n",
    "Each transaction creates a separate Delta data file (since Delta Lake uses **copy-on-write**).\n",
    "\n",
    "**Why multiple transactions?**\n",
    "\n",
    "- Demonstrates Delta's ability to handle multiple files (for parallelism & scalability)."
   ]
  },
  {
   "cell_type": "code",
   "execution_count": 0,
   "metadata": {
    "application/vnd.databricks.v1+cell": {
     "cellMetadata": {
      "byteLimit": 2048000,
      "rowLimit": 10000
     },
     "inputWidgets": {},
     "nuid": "45291c69-3aec-4fb5-8d3f-890fbac207d9",
     "showTitle": false,
     "tableResultSettingsMap": {},
     "title": ""
    }
   },
   "outputs": [],
   "source": [
    "-- NOTE: With latest Databricks Runtimes, inserting few records in single transaction is optimized into single data file.\n",
    "-- For this demo, we will insert the records in multiple transactions in order to create 4 data files.\n",
    "\n",
    "INSERT INTO employees\n",
    "VALUES \n",
    "  (1, \"Hello Kitty\", 3500.0),\n",
    "  (2, \"My Melody\", 4020.5);\n",
    "\n",
    "INSERT INTO employees\n",
    "VALUES\n",
    "  (3, \"Cinnamoroll\", 2999.3),\n",
    "  (4, \"Badtz-Maru\", 4000.3);\n",
    "\n",
    "INSERT INTO employees\n",
    "VALUES\n",
    "  (5, \"Kuromi\", 2500.0);\n",
    "\n",
    "INSERT INTO employees\n",
    "VALUES\n",
    "  (6, \"Keroppi\", 6200.3)\n",
    "\n",
    "-- NOTE: When executing multiple SQL statements in the same cell, only the last statement's result will be displayed in the cell output."
   ]
  },
  {
   "cell_type": "code",
   "execution_count": 0,
   "metadata": {
    "application/vnd.databricks.v1+cell": {
     "cellMetadata": {
      "byteLimit": 2048000,
      "rowLimit": 10000
     },
     "inputWidgets": {},
     "nuid": "891b7714-0c06-4f1f-a4b2-37209606a592",
     "showTitle": false,
     "tableResultSettingsMap": {},
     "title": ""
    }
   },
   "outputs": [],
   "source": [
    "--View all the data in the employees table\n",
    "SELECT * FROM employees"
   ]
  },
  {
   "cell_type": "markdown",
   "metadata": {
    "application/vnd.databricks.v1+cell": {
     "cellMetadata": {},
     "inputWidgets": {},
     "nuid": "27f9c7af-f611-4abc-9fd1-8f5e0060e041",
     "showTitle": false,
     "tableResultSettingsMap": {},
     "title": ""
    }
   },
   "source": [
    "# Exploring Table Metadata\n",
    "\n",
    "We use `DESCRIBE DETAIL` to inspect the Delta table's metadata.\n",
    "\n",
    "**Key info:**\n",
    "\n",
    "- Table format: Delta\n",
    "- Creation time\n",
    "- Schema details\n",
    "- Number of data files\n",
    "- Managed by Unity Catalog (Location may show blank, storage is abstracted)"
   ]
  },
  {
   "cell_type": "code",
   "execution_count": 0,
   "metadata": {
    "application/vnd.databricks.v1+cell": {
     "cellMetadata": {
      "byteLimit": 2048000,
      "rowLimit": 10000
     },
     "inputWidgets": {},
     "nuid": "92f2288a-c3d3-427c-abbf-71d0898550ea",
     "showTitle": false,
     "tableResultSettingsMap": {},
     "title": ""
    }
   },
   "outputs": [],
   "source": [
    "--Use the DESCRIBE DETAIL command on the table to view some metadata information about the table\n",
    "DESCRIBE DETAIL employees"
   ]
  },
  {
   "cell_type": "markdown",
   "metadata": {
    "application/vnd.databricks.v1+cell": {
     "cellMetadata": {
      "byteLimit": 2048000,
      "rowLimit": 10000
     },
     "inputWidgets": {},
     "nuid": "f349ce59-1c81-4d1a-80bb-8497ab4a21f6",
     "showTitle": false,
     "tableResultSettingsMap": {},
     "title": ""
    }
   },
   "source": [
    "# Updating Records in Delta Table\n",
    "\n",
    "We update salaries for employees whose names start with \"K\".  \n",
    "\n",
    "**Delta Lake behavior:**\n",
    "\n",
    "- Writes new Parquet files (copy-on-write)\n",
    "- Old files are marked invalid\n",
    "- Transaction log records the update ensuring **ACID compliance**"
   ]
  },
  {
   "cell_type": "code",
   "execution_count": 0,
   "metadata": {
    "application/vnd.databricks.v1+cell": {
     "cellMetadata": {
      "byteLimit": 2048000,
      "rowLimit": 10000
     },
     "inputWidgets": {},
     "nuid": "f90c9368-ee5a-4c60-9839-ce4025b41231",
     "showTitle": false,
     "tableResultSettingsMap": {},
     "title": ""
    }
   },
   "outputs": [],
   "source": [
    "UPDATE employees \n",
    "SET salary = salary + 100\n",
    "WHERE name LIKE \"K%\";"
   ]
  },
  {
   "cell_type": "markdown",
   "metadata": {
    "application/vnd.databricks.v1+cell": {
     "cellMetadata": {},
     "inputWidgets": {},
     "nuid": "2792af2e-27e6-4528-a60d-a2393cf4b641",
     "showTitle": false,
     "tableResultSettingsMap": {},
     "title": ""
    }
   },
   "source": [
    "# Viewing Updated Records\n",
    "\n",
    "Query the `employees` table again to confirm the salary updates."
   ]
  },
  {
   "cell_type": "code",
   "execution_count": 0,
   "metadata": {
    "application/vnd.databricks.v1+cell": {
     "cellMetadata": {
      "byteLimit": 2048000,
      "rowLimit": 10000
     },
     "inputWidgets": {},
     "nuid": "f64caab7-85be-4643-ba3b-2c52ce04c44f",
     "showTitle": false,
     "tableResultSettingsMap": {},
     "title": ""
    }
   },
   "outputs": [],
   "source": [
    "SELECT * FROM employees;"
   ]
  },
  {
   "cell_type": "markdown",
   "metadata": {
    "application/vnd.databricks.v1+cell": {
     "cellMetadata": {},
     "inputWidgets": {},
     "nuid": "dde720e2-61f1-4885-89ab-74e54ee61956",
     "showTitle": false,
     "tableResultSettingsMap": {},
     "title": ""
    }
   },
   "source": [
    "# Checking Table Metadata Post-Update\n",
    "\n",
    "Run `DESCRIBE DETAIL` again to view:\n",
    "\n",
    "- Current version metadata\n",
    "- Confirmation of Delta format\n",
    "- Info remains consistent after the update\n"
   ]
  },
  {
   "cell_type": "code",
   "execution_count": 0,
   "metadata": {
    "application/vnd.databricks.v1+cell": {
     "cellMetadata": {
      "byteLimit": 2048000,
      "rowLimit": 10000
     },
     "inputWidgets": {},
     "nuid": "9afb8a6f-22ba-424d-b836-a316086dea9b",
     "showTitle": false,
     "tableResultSettingsMap": {},
     "title": ""
    }
   },
   "outputs": [],
   "source": [
    "DESCRIBE DETAIL employees;"
   ]
  },
  {
   "cell_type": "markdown",
   "metadata": {
    "application/vnd.databricks.v1+cell": {
     "cellMetadata": {},
     "inputWidgets": {},
     "nuid": "6d8f06f3-71e0-4958-b344-5ffdf5a84e4d",
     "showTitle": false,
     "tableResultSettingsMap": {},
     "title": ""
    }
   },
   "source": [
    "# Exploring Table History\n",
    "\n",
    "Delta Lake automatically tracks:\n",
    "\n",
    "- Table creation\n",
    "- Insert operations\n",
    "- Update operations\n",
    "\n",
    "`DESCRIBE HISTORY` shows a versioned audit trail with timestamps & user info.\n"
   ]
  },
  {
   "cell_type": "code",
   "execution_count": 0,
   "metadata": {
    "application/vnd.databricks.v1+cell": {
     "cellMetadata": {
      "byteLimit": 2048000,
      "rowLimit": 10000
     },
     "inputWidgets": {},
     "nuid": "a6740273-0e10-4687-b0a6-04627d89b129",
     "showTitle": false,
     "tableResultSettingsMap": {},
     "title": ""
    }
   },
   "outputs": [],
   "source": [
    "DESCRIBE HISTORY employees;"
   ]
  }
 ],
 "metadata": {
  "application/vnd.databricks.v1+notebook": {
   "computePreferences": null,
   "dashboards": [],
   "environmentMetadata": {
    "base_environment": "",
    "environment_version": "2"
   },
   "language": "sql",
   "notebookMetadata": {
    "mostRecentlyExecutedCommandWithImplicitDF": {
     "commandId": -1,
     "dataframes": [
      "_sqldf"
     ]
    },
    "pythonIndentUnit": 4
   },
   "notebookName": "1.2 - Delta Table Example",
   "widgets": {}
  },
  "language_info": {
   "name": "sql"
  }
 },
 "nbformat": 4,
 "nbformat_minor": 0
}
