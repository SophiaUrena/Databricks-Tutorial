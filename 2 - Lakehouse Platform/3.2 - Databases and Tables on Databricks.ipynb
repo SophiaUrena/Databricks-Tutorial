{
 "cells": [
  {
   "cell_type": "markdown",
   "metadata": {
    "application/vnd.databricks.v1+cell": {
     "cellMetadata": {},
     "inputWidgets": {},
     "nuid": "c2633fe2-9e6e-419f-a45b-48074450035b",
     "showTitle": false,
     "tableResultSettingsMap": {},
     "title": ""
    }
   },
   "source": [
    "## 📄 Managed Tables\n",
    "\n",
    "### 🔹 What is a Managed Table?\n",
    "\n",
    "A **Managed Table** is a table where:\n",
    "\n",
    "- Both **metadata** and **data files** are fully managed by the **Hive Metastore**.\n",
    "- Dropping the table deletes **both the metadata and the underlying data**.\n",
    "\n",
    "---\n",
    "\n",
    "### 🔹 Creating a Managed Table:\n",
    "\n",
    "In this example, we create a table named `managed_default`:\n",
    "\n",
    "```sql\n",
    "CREATE TABLE managed_default (id INT, name STRING);\n",
    "```\n",
    "\n",
    "- Notice there is no `LOCATION` keyword, meaning:\n",
    "   - The data will be stored in the **default Hive warehouse directory**.\n",
    "   - Hive Metastore handles the storage path automatically."
   ]
  },
  {
   "cell_type": "code",
   "execution_count": 0,
   "metadata": {
    "application/vnd.databricks.v1+cell": {
     "cellMetadata": {},
     "inputWidgets": {},
     "nuid": "f80937b3-6a37-455b-b1bf-bea9cdd21360",
     "showTitle": false,
     "tableResultSettingsMap": {},
     "title": ""
    }
   },
   "outputs": [],
   "source": [
    "USE CATALOG test;\n",
    "\n",
    "CREATE TABLE managed_default\n",
    "  (width INT, length INT, height INT);\n",
    "\n",
    "INSERT INTO managed_default\n",
    "VALUES (3 INT, 2 INT, 1 INT);"
   ]
  },
  {
   "cell_type": "markdown",
   "metadata": {
    "application/vnd.databricks.v1+cell": {
     "cellMetadata": {},
     "inputWidgets": {},
     "nuid": "a8ae33d5-4044-4f2d-9c80-a61313c174ee",
     "showTitle": false,
     "tableResultSettingsMap": {},
     "title": ""
    }
   },
   "source": [
    "#### Exploring Metadata\n",
    "\n",
    "Use the following command to inspect table details:\n",
    "\n",
    "```sql\n",
    "DESCRIBE EXTENDED managed_default;\n",
    "```\n",
    "\n",
    "- This shows:\n",
    "   - **Table name**: `managed_default`\n",
    "   - **Table Location**: Stored in the default Hive path (Location may show blank, storage is abstracted)\n",
    "   - **Table Type**: Managed"
   ]
  },
  {
   "cell_type": "code",
   "execution_count": 0,
   "metadata": {
    "application/vnd.databricks.v1+cell": {
     "cellMetadata": {},
     "inputWidgets": {},
     "nuid": "f62bab27-4015-486f-9e47-ce4dd9e229d1",
     "showTitle": false,
     "tableResultSettingsMap": {},
     "title": ""
    }
   },
   "outputs": [],
   "source": [
    "DESCRIBE EXTENDED managed_default"
   ]
  },
  {
   "cell_type": "markdown",
   "metadata": {
    "application/vnd.databricks.v1+cell": {
     "cellMetadata": {},
     "inputWidgets": {},
     "nuid": "88221c61-04cd-45e6-a204-4102f80a95ec",
     "showTitle": false,
     "tableResultSettingsMap": {},
     "title": ""
    }
   },
   "source": [
    "\n",
    "## 📄 External Tables\n",
    "\n",
    "### 🔹 What is an External Table?\n",
    "\n",
    "An **External Table** is a table where:\n",
    "\n",
    "- Only the **metadata** is managed by the **Hive Metastore**.\n",
    "- The **actual data files** are stored **outside** of Hive's default directory and control.\n",
    "- Dropping the table removes **only the metadata**, but **does NOT delete** the underlying data files.\n",
    "\n",
    "---\n",
    "\n",
    "### 🔹 Creating an External Table:\n",
    "\n",
    "To create an external table, you must explicitly define the storage path using the `LOCATION` keyword.\n",
    "\n",
    "Example:\n",
    "\n",
    "```sql\n",
    "CREATE EXTERNAL TABLE external_table (id INT, name STRING)\n",
    "LOCATION 'your location';\n",
    "```\n",
    "\n",
    "- The data filters for external_table will be stored in the '/mnt/demo' directory.\n",
    "- Hive Metastore records only the metadata and the tabl'es storage location."
   ]
  },
  {
   "cell_type": "code",
   "execution_count": 0,
   "metadata": {
    "application/vnd.databricks.v1+cell": {
     "cellMetadata": {},
     "inputWidgets": {},
     "nuid": "43aec48d-24ba-40e4-9a81-a27d97902edb",
     "showTitle": false,
     "tableResultSettingsMap": {},
     "title": ""
    }
   },
   "outputs": [],
   "source": [
    "CREATE EXTERNAL LOCATION my_ext_loc\n",
    "URL 's3://your-bucket/data/'\n",
    "WITH STORAGE CREDENTIAL my_credential;\n",
    "\n",
    "CREATE TABLE my_catalog.my_schema.external_default\n",
    "  (width INT, length INT, height INT)\n",
    "LOCATION '@my_ext_loc/external_default';\n",
    "  \n",
    "INSERT INTO external_default\n",
    "VALUES (3 INT, 2 INT, 1 INT);"
   ]
  },
  {
   "cell_type": "markdown",
   "metadata": {
    "application/vnd.databricks.v1+cell": {
     "cellMetadata": {},
     "inputWidgets": {},
     "nuid": "1d45b9ad-6e7e-4154-ac0b-d8fcde6e0a10",
     "showTitle": false,
     "tableResultSettingsMap": {},
     "title": ""
    }
   },
   "source": [
    "\n",
    "#### Verifying Table Creation:\n",
    "\n",
    "- You can confirm successful creation in the Data Explorer.\n",
    "- Running the following command inspects table metadata:\n",
    "\n",
    "```sql\n",
    "DESCRIBE EXTENDED external_table;\n",
    "```\n",
    "\n",
    "- This shows:\n",
    "   - **Table Type**: External\n",
    "   - **Table Location**: Shows the path `/mnt/demo/` defined during creation"
   ]
  },
  {
   "cell_type": "code",
   "execution_count": 0,
   "metadata": {
    "application/vnd.databricks.v1+cell": {
     "cellMetadata": {},
     "inputWidgets": {},
     "nuid": "99202e9f-af11-4cf9-92a2-2ac72045bc00",
     "showTitle": false,
     "tableResultSettingsMap": {},
     "title": ""
    }
   },
   "outputs": [],
   "source": [
    "DESCRIBE EXTENDED external_default;"
   ]
  },
  {
   "cell_type": "markdown",
   "metadata": {
    "application/vnd.databricks.v1+cell": {
     "cellMetadata": {},
     "inputWidgets": {},
     "nuid": "4cc7ee7f-e37b-4ac6-af22-bba750e752d8",
     "showTitle": false,
     "tableResultSettingsMap": {},
     "title": ""
    }
   },
   "source": [
    "\n",
    "## 🗑️ Dropping Tables\n",
    "\n",
    "### 🔹 Dropping Managed vs External Tables:\n",
    "\n",
    "---\n",
    "\n",
    "### 1️⃣ Dropping a Managed Table:\n",
    "\n",
    "```sql\n",
    "DROP TABLE managed_default;\n",
    "```\n",
    "\n",
    "- Outcome:\n",
    "  - Both **metadata** and the **underlying data files** are **permanently deleted**.\n",
    "  - Managed tables are fully controlled by the Hive Metastore, so deletion removes everything.\n",
    "---\n",
    "\n",
    "### 2️⃣ Dropping an External Table:\n",
    "\n",
    "```sql\n",
    "DROP TABLE external_table;\n",
    "```\n",
    "\n",
    "- Outcome:\n",
    "  - **Only the metadata is removed** from the Hive Metastore.\n",
    "  - **Data files (e.g., stored at `/mnt/demo`) remain intact**.\n",
    "  - You retain control over the physical data files."
   ]
  },
  {
   "cell_type": "code",
   "execution_count": 0,
   "metadata": {
    "application/vnd.databricks.v1+cell": {
     "cellMetadata": {},
     "inputWidgets": {},
     "nuid": "bbe82f1d-54fa-4521-bb20-cb43c1b04198",
     "showTitle": false,
     "tableResultSettingsMap": {},
     "title": ""
    }
   },
   "outputs": [],
   "source": [
    "DROP TABLE managed_default;"
   ]
  },
  {
   "cell_type": "code",
   "execution_count": 0,
   "metadata": {
    "application/vnd.databricks.v1+cell": {
     "cellMetadata": {},
     "inputWidgets": {},
     "nuid": "a5e5a89d-e9dc-4d72-b570-54f78bea4975",
     "showTitle": false,
     "tableResultSettingsMap": {},
     "title": ""
    }
   },
   "outputs": [],
   "source": [
    "DROP TABLE external_default;"
   ]
  },
  {
   "cell_type": "code",
   "execution_count": 0,
   "metadata": {
    "application/vnd.databricks.v1+cell": {
     "cellMetadata": {},
     "inputWidgets": {},
     "nuid": "6bf21f07-7e09-493e-9461-f5251bc6a75b",
     "showTitle": false,
     "tableResultSettingsMap": {},
     "title": ""
    }
   },
   "outputs": [],
   "source": [
    "%fs ls 'dbfs:/mnt/demo/external_default'"
   ]
  },
  {
   "cell_type": "markdown",
   "metadata": {
    "application/vnd.databricks.v1+cell": {
     "cellMetadata": {},
     "inputWidgets": {},
     "nuid": "a9fc3ca2-0058-414d-ae9a-d1897475b3ce",
     "showTitle": false,
     "tableResultSettingsMap": {},
     "title": ""
    }
   },
   "source": [
    "## 📂 Creating Schemas\n",
    "\n",
    "### 🔹 Schema Creation:\n",
    "\n",
    "You can create new schemas (also referred to as databases) in Databricks using either syntax:\n",
    "\n",
    "```sql\n",
    "CREATE DATABASE sales_schema;\n",
    "CREATE SCHEMA marketing_schema;\n",
    "```\n",
    "\n",
    "If the location is available the file will have .db for database/schemas"
   ]
  },
  {
   "cell_type": "code",
   "execution_count": 0,
   "metadata": {
    "application/vnd.databricks.v1+cell": {
     "cellMetadata": {},
     "inputWidgets": {},
     "nuid": "34c68d42-a348-470e-abd2-38819f28472c",
     "showTitle": false,
     "tableResultSettingsMap": {},
     "title": ""
    }
   },
   "outputs": [],
   "source": [
    "CREATE SCHEMA new_default;"
   ]
  },
  {
   "cell_type": "code",
   "execution_count": 0,
   "metadata": {
    "application/vnd.databricks.v1+cell": {
     "cellMetadata": {},
     "inputWidgets": {},
     "nuid": "bec38d5f-04a2-4fb7-ab7e-a71b68fb2948",
     "showTitle": false,
     "tableResultSettingsMap": {},
     "title": ""
    }
   },
   "outputs": [],
   "source": [
    "DESCRIBE DATABASE EXTENDED new_default;"
   ]
  },
  {
   "cell_type": "markdown",
   "metadata": {
    "application/vnd.databricks.v1+cell": {
     "cellMetadata": {},
     "inputWidgets": {},
     "nuid": "9fc81974-5fc3-4c09-ab5d-3aeef898decd",
     "showTitle": false,
     "tableResultSettingsMap": {},
     "title": ""
    }
   },
   "source": [
    "#### Adding Tables to the New Schema:\n",
    "Once your schema is created you can add managed and external tables inside it"
   ]
  },
  {
   "cell_type": "code",
   "execution_count": 0,
   "metadata": {
    "application/vnd.databricks.v1+cell": {
     "cellMetadata": {},
     "inputWidgets": {},
     "nuid": "0cc148b8-117d-44d2-9717-621a738975d9",
     "showTitle": false,
     "tableResultSettingsMap": {},
     "title": ""
    }
   },
   "outputs": [],
   "source": [
    "USE new_default;\n",
    "\n",
    "CREATE TABLE managed_new_default\n",
    "  (width INT, length INT, height INT);\n",
    "  \n",
    "INSERT INTO managed_new_default\n",
    "VALUES (3 INT, 2 INT, 1 INT);\n",
    "\n",
    "-----------------------------------\n",
    "\n",
    "CREATE TABLE external_new_default\n",
    "  (width INT, length INT, height INT)\n",
    "LOCATION 'dbfs:/mnt/demo/external_new_default';\n",
    "  \n",
    "INSERT INTO external_new_default\n",
    "VALUES (3 INT, 2 INT, 1 INT);"
   ]
  },
  {
   "cell_type": "code",
   "execution_count": 0,
   "metadata": {
    "application/vnd.databricks.v1+cell": {
     "cellMetadata": {},
     "inputWidgets": {},
     "nuid": "5bb7a856-6b2c-47a5-ae40-2a4866f56a4f",
     "showTitle": false,
     "tableResultSettingsMap": {},
     "title": ""
    }
   },
   "outputs": [],
   "source": [
    "DESCRIBE EXTENDED managed_new_default;"
   ]
  },
  {
   "cell_type": "code",
   "execution_count": 0,
   "metadata": {
    "application/vnd.databricks.v1+cell": {
     "cellMetadata": {},
     "inputWidgets": {},
     "nuid": "b98dd9ad-5af4-4f09-a614-ac01835c66c6",
     "showTitle": false,
     "tableResultSettingsMap": {},
     "title": ""
    }
   },
   "outputs": [],
   "source": [
    "DESCRIBE EXTENDED external_new_default;"
   ]
  },
  {
   "cell_type": "markdown",
   "metadata": {
    "application/vnd.databricks.v1+cell": {
     "cellMetadata": {},
     "inputWidgets": {},
     "nuid": "5ed69711-624a-4b7c-827e-b1b4a650318b",
     "showTitle": false,
     "tableResultSettingsMap": {},
     "title": ""
    }
   },
   "source": [
    "#### Dropping Tables in Custom Schemas:\n",
    "Dropping tables in custom schemas will have the same outcomes as described previously.\n",
    "\n",
    "- Managed Table:\n",
    "  - **Outcome**: Both metadata and data files are deleted.\n",
    "- External Table:\n",
    "  - **Outcome**: Metadata is delted, but underyling data files remain."
   ]
  },
  {
   "cell_type": "code",
   "execution_count": 0,
   "metadata": {
    "application/vnd.databricks.v1+cell": {
     "cellMetadata": {},
     "inputWidgets": {},
     "nuid": "89f7ec84-06ec-4190-9619-8cbb5586ddd5",
     "showTitle": false,
     "tableResultSettingsMap": {},
     "title": ""
    }
   },
   "outputs": [],
   "source": [
    "DROP TABLE managed_new_default;\n",
    "DROP TABLE external_new_default;"
   ]
  },
  {
   "cell_type": "markdown",
   "metadata": {
    "application/vnd.databricks.v1+cell": {
     "cellMetadata": {},
     "inputWidgets": {},
     "nuid": "f00c6f7d-60e5-41fc-811c-74874471a5f6",
     "showTitle": false,
     "tableResultSettingsMap": {},
     "title": ""
    }
   },
   "source": [
    "## 📂 Creating Schemas in Custom Location\n",
    "\n",
    "### 🔹 Creating Schemas in Custom Locations:\n",
    "\n",
    "You can define a custom storage path when creating a new schema using the `LOCATION` keyword.\n",
    "\n",
    "**Example:**\n",
    "\n",
    "```sql\n",
    "CREATE SCHEMA new_schema\n",
    "LOCATION '/mnt/custom/path';\n",
    "```\n",
    "- The schema metadata is stored in the Hive Metastore.\n",
    "- The actual data files for managed tables will be stored at the specified custom location.\n",
    "---\n",
    "### 🔹 Behavior Consistency:\n",
    "- **Managed Tables**: Data files are stored inside the custom schema's defined location.\n",
    "- **External Tables**: You can still specify a separate `LOCATION` for each table as needed.\n",
    "\n",
    "The core behaviors remain the same:\n",
    "- Dropping a **managed table** deletes both metadata and data files.\n",
    "- Dropping an **external table** deletes only metadata, leaving the data files intact."
   ]
  },
  {
   "cell_type": "code",
   "execution_count": 0,
   "metadata": {
    "application/vnd.databricks.v1+cell": {
     "cellMetadata": {},
     "inputWidgets": {},
     "nuid": "61d75163-efd7-499f-8e5b-90a0296d4a1a",
     "showTitle": false,
     "tableResultSettingsMap": {},
     "title": ""
    }
   },
   "outputs": [],
   "source": [
    "CREATE SCHEMA custom\n",
    "LOCATION 'dbfs:/Shared/schemas/custom.db';"
   ]
  },
  {
   "cell_type": "code",
   "execution_count": 0,
   "metadata": {
    "application/vnd.databricks.v1+cell": {
     "cellMetadata": {},
     "inputWidgets": {},
     "nuid": "e5e975ed-d543-49c0-aaa5-910af6e5b3d0",
     "showTitle": false,
     "tableResultSettingsMap": {},
     "title": ""
    }
   },
   "outputs": [],
   "source": [
    "DESCRIBE DATABASE EXTENDED custom;"
   ]
  },
  {
   "cell_type": "code",
   "execution_count": 0,
   "metadata": {
    "application/vnd.databricks.v1+cell": {
     "cellMetadata": {},
     "inputWidgets": {},
     "nuid": "fdb3bdcd-4d3a-4ca7-bca5-e8d406276105",
     "showTitle": false,
     "tableResultSettingsMap": {},
     "title": ""
    }
   },
   "outputs": [],
   "source": [
    "USE custom;\n",
    "\n",
    "CREATE TABLE managed_custom\n",
    "  (width INT, length INT, height INT);\n",
    "  \n",
    "INSERT INTO managed_custom\n",
    "VALUES (3 INT, 2 INT, 1 INT);\n",
    "\n",
    "-----------------------------------\n",
    "\n",
    "CREATE TABLE external_custom\n",
    "  (width INT, length INT, height INT)\n",
    "LOCATION 'dbfs:/mnt/demo/external_custom';\n",
    "  \n",
    "INSERT INTO external_custom\n",
    "VALUES (3 INT, 2 INT, 1 INT);"
   ]
  },
  {
   "cell_type": "code",
   "execution_count": 0,
   "metadata": {
    "application/vnd.databricks.v1+cell": {
     "cellMetadata": {},
     "inputWidgets": {},
     "nuid": "023913e6-74db-40df-a109-5741c420f01a",
     "showTitle": false,
     "tableResultSettingsMap": {},
     "title": ""
    }
   },
   "outputs": [],
   "source": [
    "DESCRIBE EXTENDED managed_custom;"
   ]
  },
  {
   "cell_type": "code",
   "execution_count": 0,
   "metadata": {
    "application/vnd.databricks.v1+cell": {
     "cellMetadata": {},
     "inputWidgets": {},
     "nuid": "f475b8b9-2806-48f8-a0de-040c6d2c1375",
     "showTitle": false,
     "tableResultSettingsMap": {},
     "title": ""
    }
   },
   "outputs": [],
   "source": [
    "DESCRIBE EXTENDED external_custom;"
   ]
  },
  {
   "cell_type": "code",
   "execution_count": 0,
   "metadata": {
    "application/vnd.databricks.v1+cell": {
     "cellMetadata": {},
     "inputWidgets": {},
     "nuid": "154cb0af-0484-45da-9ca2-2089f2dffb74",
     "showTitle": false,
     "tableResultSettingsMap": {},
     "title": ""
    }
   },
   "outputs": [],
   "source": [
    "DROP TABLE managed_custom;\n",
    "DROP TABLE external_custom;"
   ]
  }
 ],
 "metadata": {
  "application/vnd.databricks.v1+notebook": {
   "computePreferences": null,
   "dashboards": [],
   "environmentMetadata": {
    "base_environment": "",
    "environment_version": "2"
   },
   "inputWidgetPreferences": null,
   "language": "sql",
   "notebookMetadata": {
    "pythonIndentUnit": 4
   },
   "notebookName": "3.2 - Databases and Tables on Databricks",
   "widgets": {}
  },
  "language_info": {
   "name": "sql"
  }
 },
 "nbformat": 4,
 "nbformat_minor": 0
}
