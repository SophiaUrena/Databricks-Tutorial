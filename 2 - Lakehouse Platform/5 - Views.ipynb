{
 "cells": [
  {
   "cell_type": "markdown",
   "metadata": {
    "application/vnd.databricks.v1+cell": {
     "cellMetadata": {},
     "inputWidgets": {},
     "nuid": "408ae928-8959-4a9c-9e01-d5b36c8fa281",
     "showTitle": false,
     "tableResultSettingsMap": {},
     "title": ""
    }
   },
   "source": [
    "## 👓 Types of Views in Databricks\n",
    "\n",
    "Databricks supports three main types of views, each with unique characteristics and lifecycles.\n",
    "\n",
    "---\n",
    "\n",
    "### 1️⃣ Stored Views (Classical Views)\n",
    "\n",
    "**Characteristics:**\n",
    "- Persistent objects in a schema.\n",
    "- Can be queried with standard SQL `SELECT` statements.\n",
    "- Accessible across multiple sessions and notebooks.\n",
    "\n",
    "**Creation Syntax:**\n",
    "\n",
    "```sql\n",
    "CREATE VIEW view_name AS\n",
    "SELECT column1, column2 FROM table_name WHERE condition;\n",
    "```\n",
    "---\n",
    "##2️⃣ Temporary Views\n",
    "Characteristics:\n",
    "- Exist only for the current Spark session.\n",
    "- Automatically dropped when the session ends.\n",
    "- Useful for ad hoc or session-based operations.\n",
    "\n",
    "Creation Syntax:\n",
    "\n",
    "```sql\n",
    "CREATE TEMP VIEW temp_view_name AS\n",
    "SELECT column1, column2 FROM table_name WHERE condition;\n",
    "```\n",
    "\n",
    "Triggering a New Session:\n",
    "- Opening a new notebook\n",
    "\n",
    "- Restarting the cluster\n",
    "\n",
    "These actions start a new session, removing any temporary views created earlier.\n",
    "\n",
    "---\n",
    "##3️⃣ Global Temporary Views\n",
    "Characteristics:\n",
    "- Similar to stored views, but scoped to the cluster, not the session.\n",
    "- Accessible from any notebook as long as the cluster is running.\n",
    "- Stored in a special system schema: global_temp.\n",
    "\n",
    "Creation Syntax:\n",
    "```sql\n",
    "CREATE TEMP VIEW temp_view_name AS\n",
    "SELECT column1, column2 FROM table_name WHERE condition;\n",
    "```\n",
    "Access Example:\n",
    "```sql\n",
    "SELECT * FROM global_temp.global_temp_view_name;\n",
    "```\n",
    "---\n",
    "## 🔄 Comparison of View Types\n",
    "\n",
    "| **View Type**         | **Scope**                     | **Lifetime**             | **Where Stored**         |\n",
    "|------------------------|-------------------------------|---------------------------|---------------------------|\n",
    "| **Stored View**        | Multiple sessions             | Until manually dropped    | User-defined schema       |\n",
    "| **Temporary View**     | Current session only          | Until session ends        | Not persisted             |\n",
    "| **Global Temp View**   | All notebooks in same cluster | Until cluster restarts    | `global_temp` schema      |\n",
    "---\n",
    "\n",
    "##🗑️ Dropping Views\n",
    "Stored Views:\n",
    "\n",
    "Temporary Views:\n",
    "```sql\n",
    "DROP VIEW view_name;\n",
    "```\n",
    "- Dropped automatically at the end of the session.\n",
    "- Global Temporary Views:\n",
    "- Dropped when the cluster is restarted."
   ]
  }
 ],
 "metadata": {
  "application/vnd.databricks.v1+notebook": {
   "computePreferences": null,
   "dashboards": [],
   "environmentMetadata": {
    "base_environment": "",
    "environment_version": "2"
   },
   "inputWidgetPreferences": null,
   "language": "sql",
   "notebookMetadata": {
    "pythonIndentUnit": 4
   },
   "notebookName": "5 - Views",
   "widgets": {}
  },
  "language_info": {
   "name": "sql"
  }
 },
 "nbformat": 4,
 "nbformat_minor": 0
}
