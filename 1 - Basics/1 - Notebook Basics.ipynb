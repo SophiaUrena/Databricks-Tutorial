{
 "cells": [
  {
   "cell_type": "markdown",
   "metadata": {
    "application/vnd.databricks.v1+cell": {
     "cellMetadata": {},
     "inputWidgets": {},
     "nuid": "104aba29-7ee8-452d-ab9f-39812051a3d8",
     "showTitle": false,
     "tableResultSettingsMap": {},
     "title": ""
    }
   },
   "source": [
    "### Create a Folder\n",
    "\n",
    "**Steps:** \n",
    "1. Navigate to the **Workspace** tab\n",
    "2. Right-click on the **Workspace** folder.\n",
    "3. Select **Create** → **Folder**.\n",
    "4. Enter a descriptive folder name (e.g., `Demo`).\n",
    "5. Click **Create** to confirm.\n",
    "\n",
    "![Create Folder](https://github.com/SophiaUrena/Databricks-Tutorial/blob/main/Tutorial%20Photos/Notebook%20Basics/001%20Create%20Folder.png?raw=true)"
   ]
  },
  {
   "cell_type": "markdown",
   "metadata": {
    "application/vnd.databricks.v1+cell": {
     "cellMetadata": {},
     "inputWidgets": {},
     "nuid": "18985de1-dfd1-4589-9c50-792809062b06",
     "showTitle": true,
     "tableResultSettingsMap": {},
     "title": ""
    }
   },
   "source": [
    "### Creating a New Notebook\n",
    "\n",
    "**Steps:**\n",
    "\n",
    "1. Navigate to your newly created `Demo` folder.\n",
    "2. Right-click on the `Demo` folder (or click the three dots next to it).\n",
    "3. Select **Create** → **Notebook**.\n",
    "4. Enter a clear, descriptive notebook name (e.g., `Notebook Basics`).\n",
    "\n",
    "> *Tip:* You can rename your notebook anytime—just click the notebook name at the top of the page and edit it.\n",
    "\n",
    "![Create Notebook](https://github.com/SophiaUrena/Databricks-Tutorial/blob/main/Tutorial%20Photos/Notebook%20Basics/002%20Create%20Notebook.png?raw=true)\n",
    "\n",
    "5. In the notebook, attach to a **Serverless SQL Warehouse** using the dropdown in the upper-right corner.  \n",
    "   A green circle next to the warehouse name indicates it's running.\n",
    "\n",
    "![Serverless](https://github.com/SophiaUrena/Databricks-Tutorial/blob/main/Tutorial%20Photos/Notebook%20Basics/003%20Connect%20Serverless.png?raw=true)"
   ]
  },
  {
   "cell_type": "markdown",
   "metadata": {
    "application/vnd.databricks.v1+cell": {
     "cellMetadata": {},
     "inputWidgets": {},
     "nuid": "fef5b8ee-c287-4a35-8c8a-1c2e7eff88e5",
     "showTitle": false,
     "tableResultSettingsMap": {},
     "title": ""
    }
   },
   "source": [
    "### Running a Cell in Databricks\n",
    "\n",
    "There are several ways to run a cell:\n",
    "\n",
    "- Click the small triangle ▶️ on the left side of the cell.\n",
    "- Press **Shift + Enter** to run the current cell and move to the next one. \n",
    "- Press **Ctrl + Enter** (or **Cmd + Enter** on Mac) to run the current cell and stay on the same cell.\n",
    "- Click the down arrow next to the triangle ▶️ to reveal additional run options.\n",
    "\n",
    "![Run Cell](https://github.com/SophiaUrena/Databricks-Tutorial/blob/main/Tutorial%20Photos/Notebook%20Basics/004%20Run%20Cell.png?raw=true)"
   ]
  },
  {
   "cell_type": "code",
   "execution_count": 0,
   "metadata": {
    "application/vnd.databricks.v1+cell": {
     "cellMetadata": {
      "byteLimit": 2048000,
      "rowLimit": 10000
     },
     "inputWidgets": {},
     "nuid": "8d3aafc0-ec36-4929-b3df-779ffc042db1",
     "showTitle": false,
     "tableResultSettingsMap": {},
     "title": ""
    }
   },
   "outputs": [],
   "source": [
    "# Notes:\n",
    "# This cell runs standard Python code.\n",
    "# It prints \"Hello World!\" to the notebook output.\n",
    "# Running Python code is the default behavior in Databricks notebooks.\n",
    "\n",
    "print(\"Hello World!\")"
   ]
  },
  {
   "cell_type": "markdown",
   "metadata": {
    "application/vnd.databricks.v1+cell": {
     "cellMetadata": {},
     "inputWidgets": {},
     "nuid": "3893516a-f2e5-40fb-89ac-117411c0db09",
     "showTitle": false,
     "tableResultSettingsMap": {},
     "title": ""
    }
   },
   "source": [
    "### Changing the Notebook Default Language\n",
    "\n",
    "You can set or change the default language of your notebook at any time. Databricks supports **Python, SQL, Scala, and R**.\n",
    "\n",
    "**To change the notebook's default language:**\n",
    "\n",
    "1. Click on the current language indicator in the top-left corner of the notebook (e.g., **Python** or **SQL**).\n",
    "2. Choose your preferred language from the dropdown menu.\n",
    "\n",
    "![Change Language](https://github.com/SophiaUrena/Databricks-Tutorial/blob/main/Tutorial%20Photos/Notebook%20Basics/005%20Language%20Change.png?raw=true)\n",
    "\n",
    "> **Tip:** Even if you set a default language, you can run code in other languages by using magic commands like `%sql`, `%scala`, `%python`, or `%md` within specific cells.\n"
   ]
  },
  {
   "cell_type": "markdown",
   "metadata": {
    "application/vnd.databricks.v1+cell": {
     "cellMetadata": {},
     "inputWidgets": {},
     "nuid": "d3392f54-01bc-4bbb-acf9-2f518f21734a",
     "showTitle": false,
     "tableResultSettingsMap": {},
     "title": ""
    }
   },
   "source": [
    "### Changing the Language of a Cell in Databricks\n",
    "\n",
    "You can change the language of an individual cell without changing the entire notebook's default language.\n",
    "\n",
    "**Steps:**\n",
    "\n",
    "1. Click the dropdown arrow next to the default language label (usually in the top-right of the cell, e.g., showing `Python` or `SQL`).\n",
    "2. Choose the language you want for that specific cell: **Python, SQL, Scala, R, or Markdown**.\n",
    "\n",
    "![Cell Language](https://github.com/SophiaUrena/Databricks-Tutorial/blob/main/Tutorial%20Photos/Notebook%20Basics/006%20Cell%20Language.png?raw=true)\n",
    "\n",
    "Alternatively, you can also type a **magic command at the top of the cell** to change its language:\n",
    "\n",
    "- `%python` → Runs Python code\n",
    "- `%sql` → Runs SQL queries\n",
    "- `%scala` → Runs Scala code\n",
    "- `%r` → Runs R code\n",
    "- `%md` → Renders the cell as Markdown\n",
    "\n",
    "> **Example:**\n",
    "\n",
    "```sql\n",
    "%sql\n",
    "SELECT current_date()\n"
   ]
  },
  {
   "cell_type": "code",
   "execution_count": 0,
   "metadata": {
    "application/vnd.databricks.v1+cell": {
     "cellMetadata": {
      "byteLimit": 2048000,
      "implicitDf": true,
      "rowLimit": 10000
     },
     "inputWidgets": {},
     "nuid": "dbd2f221-63e5-4d69-a594-203f3e460739",
     "showTitle": false,
     "tableResultSettingsMap": {},
     "title": ""
    }
   },
   "outputs": [],
   "source": [
    "%sql\n",
    "-- Notes:\n",
    "-- This cell uses the %sql magic command to run SQL code.\n",
    "-- It selects and returns the string \"Hello world from SQL!\".\n",
    "\n",
    "SELECT \"Hello world from SQL!\""
   ]
  },
  {
   "cell_type": "markdown",
   "metadata": {
    "application/vnd.databricks.v1+cell": {
     "cellMetadata": {},
     "inputWidgets": {},
     "nuid": "6fd53402-254a-4559-bbd4-e2e02c361328",
     "showTitle": false,
     "tableResultSettingsMap": {},
     "title": ""
    }
   },
   "source": [
    "### Markdown Formatting Notes\n",
    "\n",
    "This Markdown cell demonstrates various formatting features available in Databricks:\n",
    "\n",
    "- `#`, `##`, and `###` are used for different heading levels:\n",
    "  - `#` → Largest heading\n",
    "    # Title 1\n",
    "  - `##` → Medium heading\n",
    "    ## Title 2\n",
    "  - `###` → Small heading\n",
    "    ### Title 3\n",
    "\n",
    "---\n",
    "\n",
    "- Text formatting:\n",
    "  - `**bold**` → Makes text **bold**\n",
    "  - `*italicized*` → Makes text *italicized*\n",
    "\n",
    "---\n",
    "\n",
    "- Lists:\n",
    "  - **Ordered lists** use numbers:\n",
    "    1. first\n",
    "    2. second\n",
    "    3. third\n",
    "  - **Unordered lists** use asterisks (*) or dashes (-):\n",
    "    * coffee\n",
    "    * tea\n",
    "    * milk\n",
    "\n",
    "---\n",
    "\n",
    "- **Images:**\n",
    "  - Displayed using `![Alt Text](image-url)`\n",
    "  - Example:\n",
    "\n",
    "    ![Associate-badge](https://www.databricks.com/wp-content/uploads/2022/04/associate-badge-eng.svg)\n",
    "\n",
    "---\n",
    "\n",
    "- **Tables:**\n",
    "  - Created using vertical bars `|` to define columns and rows:\n",
    "  \n",
    "    | user_id | user_name |\n",
    "    |--------|----------|\n",
    "    |   1    |   Adam   |\n",
    "    |   2    |  Sarah   |\n",
    "    |   3    |   John   |\n",
    "\n",
    "---\n",
    "\n",
    "- **Links & Embedded HTML:**\n",
    "  - Links can be added in Markdown using `<a href=\"URL\" target=\"_blank\">Text/a>` or embedded HTML.\n",
    "  - Example:\n",
    "  \n",
    "  <a href=\"https://docs.databricks.com/notebooks/notebooks-manage.html\" target=\"_blank\">Managing Notebooks Documentation</a>"
   ]
  },
  {
   "cell_type": "markdown",
   "metadata": {
    "application/vnd.databricks.v1+cell": {
     "cellMetadata": {},
     "inputWidgets": {},
     "nuid": "f809444a-b74d-4242-a5b3-c2d8cdc0acd5",
     "showTitle": false,
     "tableResultSettingsMap": {},
     "title": ""
    }
   },
   "source": [
    "### Table of Contents in Databricks\n",
    "\n",
    "Databricks automatically generates a **Table of Contents (ToC)** for each notebook based on the headings you use (e.g., `#`, `##`, `###`).\n",
    "\n",
    "#### How to Use:\n",
    "\n",
    "- Use Markdown headings to structure your notebook:\n",
    "  - `#` → Main sections\n",
    "  - `##` → Subsections\n",
    "  - `###` → Smaller subsections\n",
    "\n",
    "- The Table of Contents icon 📑 appears in the **top-left corner** of the notebook (next to the notebook name).\n",
    "\n",
    "- Click the 📑 **Table of Contents icon** to quickly navigate to different sections of your notebook.\n",
    "\n",
    "---\n",
    "\n",
    "#### Example:\n",
    "![ToC](https://github.com/SophiaUrena/Databricks-Tutorial/blob/main/Tutorial%20Photos/Notebook%20Basics/007%20Table%20of%20Contents.png?raw=true)\n"
   ]
  },
  {
   "cell_type": "markdown",
   "metadata": {
    "application/vnd.databricks.v1+cell": {
     "cellMetadata": {},
     "inputWidgets": {},
     "nuid": "f96175c4-f17c-4712-b36c-5e9f6714ad38",
     "showTitle": false,
     "tableResultSettingsMap": {},
     "title": ""
    }
   },
   "source": [
    "### Running an External Notebook\n",
    "\n",
    "The `%run` command allows you to import and execute another notebook.\n",
    "\n",
    "Here, it runs the setup notebook located at `/Workspace/Includes/Setup`.\n",
    "- `.` refers to the **current directory** (the folder where the current notebook is located).\n",
    "- `./` means you're starting the path **from the current folder**.\n",
    "- So, `/Workspace/Includes/Setup` tells Databricks to look for the `Workspace/Includes/Setup` notebook relative to where your current notebook is."
   ]
  },
  {
   "cell_type": "code",
   "execution_count": 0,
   "metadata": {
    "application/vnd.databricks.v1+cell": {
     "cellMetadata": {
      "byteLimit": 2048000,
      "rowLimit": 10000
     },
     "inputWidgets": {},
     "nuid": "ef86dc73-ed5b-43ad-b3af-62adfa8f4a5e",
     "showTitle": false,
     "tableResultSettingsMap": {},
     "title": ""
    }
   },
   "outputs": [],
   "source": [
    "%run /Workspace/Includes/Setup\n"
   ]
  },
  {
   "cell_type": "code",
   "execution_count": 0,
   "metadata": {
    "application/vnd.databricks.v1+cell": {
     "cellMetadata": {
      "byteLimit": 2048000,
      "rowLimit": 10000
     },
     "inputWidgets": {},
     "nuid": "2cf5994b-aa42-47c7-a11c-a2a3d891b250",
     "showTitle": false,
     "tableResultSettingsMap": {},
     "title": ""
    }
   },
   "outputs": [],
   "source": [
    "# After running the setup notebook, any variables defined in it are now available\n",
    "# This prints the variable 'full_name' which was defined in the Setup notebook\n",
    "\n",
    "print(full_name)\n"
   ]
  },
  {
   "cell_type": "markdown",
   "metadata": {
    "application/vnd.databricks.v1+cell": {
     "cellMetadata": {},
     "inputWidgets": {},
     "nuid": "4a161eb3-59d4-4bbd-a40c-7e3271d8acdb",
     "showTitle": false,
     "tableResultSettingsMap": {},
     "title": ""
    }
   },
   "source": [
    "### Using `%fs` Command in Databricks\n",
    "\n",
    "The `%fs` magic command allows you to interact with the **Databricks File System (DBFS)**, which is a distributed file system accessible from Databricks.\n",
    "\n",
    "#### Common `%fs` Commands:\n",
    "- `ls` → Lists files and folders.\n",
    "- `cp` → Copies files.\n",
    "- `mv` → Moves files.\n",
    "- `rm` → Removes files.\n",
    "- `mkdirs` → Creates directories.\n"
   ]
  },
  {
   "cell_type": "code",
   "execution_count": 0,
   "metadata": {
    "application/vnd.databricks.v1+cell": {
     "cellMetadata": {
      "byteLimit": 2048000,
      "rowLimit": 10000
     },
     "inputWidgets": {},
     "nuid": "eed9ace8-3117-4c34-8404-d090658a1ab0",
     "showTitle": false,
     "tableResultSettingsMap": {},
     "title": ""
    }
   },
   "outputs": [],
   "source": [
    "%fs ls '/databricks-datasets'\n"
   ]
  },
  {
   "cell_type": "markdown",
   "metadata": {
    "application/vnd.databricks.v1+cell": {
     "cellMetadata": {},
     "inputWidgets": {},
     "nuid": "f353f26e-d5bb-4155-ab00-7ca45050cb1d",
     "showTitle": false,
     "tableResultSettingsMap": {},
     "title": ""
    }
   },
   "source": [
    "### Understanding `dbutils` in Databricks\n",
    "\n",
    "`dbutils` is a set of utility functions provided by Databricks to help you perform a variety of common tasks within your notebooks. (More useful than `%fs` due to integration with python)\n",
    "\n",
    "These utilities allow you to:\n",
    "\n",
    "- Work with the file system (`dbutils.fs`)\n",
    "- Manage notebook workflows (`dbutils.notebook`)\n",
    "- Handle secrets (`dbutils.secrets`)\n",
    "- Interact with widgets (`dbutils.widgets`)\n",
    "- Manage library installation (`dbutils.library`)\n",
    "- Control notebook environment variables and more\n",
    "\n",
    "---\n",
    "\n",
    "### Getting Help with `dbutils`\n",
    "\n",
    "You can use:\n",
    "\n",
    "```python\n",
    "dbutils.help()\n"
   ]
  },
  {
   "cell_type": "code",
   "execution_count": 0,
   "metadata": {
    "application/vnd.databricks.v1+cell": {
     "cellMetadata": {
      "byteLimit": 2048000,
      "rowLimit": 10000
     },
     "inputWidgets": {},
     "nuid": "2448aebf-142a-45be-b096-9a14e32e949c",
     "showTitle": false,
     "tableResultSettingsMap": {},
     "title": ""
    }
   },
   "outputs": [],
   "source": [
    "dbutils.help()\n"
   ]
  },
  {
   "cell_type": "code",
   "execution_count": 0,
   "metadata": {
    "application/vnd.databricks.v1+cell": {
     "cellMetadata": {
      "byteLimit": 2048000,
      "rowLimit": 10000
     },
     "inputWidgets": {},
     "nuid": "2207b5bc-c0f7-49de-b6cd-f426bf8ffc34",
     "showTitle": false,
     "tableResultSettingsMap": {},
     "title": ""
    }
   },
   "outputs": [],
   "source": [
    "# Displays help documentation specifically for dbutils.fs\n",
    "# dbutils.fs is used to manage files and directories in DBFS\n",
    "\n",
    "dbutils.fs.help()\n"
   ]
  },
  {
   "cell_type": "code",
   "execution_count": 0,
   "metadata": {
    "application/vnd.databricks.v1+cell": {
     "cellMetadata": {
      "byteLimit": 2048000,
      "rowLimit": 10000
     },
     "inputWidgets": {},
     "nuid": "0e8343f6-f9cc-4cf9-8f3d-3456eda0b9bf",
     "showTitle": false,
     "tableResultSettingsMap": {},
     "title": ""
    }
   },
   "outputs": [],
   "source": [
    "#Name files within databricks but this method is messy\n",
    "files = dbutils.fs.ls('/databricks-datasets/')\n",
    "print(files)"
   ]
  },
  {
   "cell_type": "code",
   "execution_count": 0,
   "metadata": {
    "application/vnd.databricks.v1+cell": {
     "cellMetadata": {
      "byteLimit": 2048000,
      "rowLimit": 10000
     },
     "inputWidgets": {},
     "nuid": "86e098f0-ff2c-4c67-b0dd-fbf8cb917b72",
     "showTitle": false,
     "tableResultSettingsMap": {},
     "title": ""
    }
   },
   "outputs": [],
   "source": [
    "#Cleaner display using display()\n",
    "display(files)"
   ]
  },
  {
   "cell_type": "markdown",
   "metadata": {
    "application/vnd.databricks.v1+cell": {
     "cellMetadata": {},
     "inputWidgets": {},
     "nuid": "27262375-c161-4748-b99c-76489654904a",
     "showTitle": false,
     "tableResultSettingsMap": {},
     "title": ""
    }
   },
   "source": [
    "### Working with Query Results: Downloading, Visualizations, and Data Profiling\n",
    "\n",
    "---\n",
    "\n",
    "### 📥 Downloading Data from a Table\n",
    "\n",
    "After running a SQL query, Python `display()` command, or viewing a DataFrame/table:\n",
    "\n",
    "1. Hover over the **table displayed in the results pane**.\n",
    "2. Click the **down arrow ⬇️ next to the table name**.\n",
    "3. Select **Download full results**.\n",
    "4. Choose your desired file format (e.g., CSV, JSON, Excel) to download the data.\n",
    "\n",
    "This is useful for saving query outputs or sharing datasets outside Databricks.\n",
    "\n",
    "![Download Data](https://github.com/SophiaUrena/Databricks-Tutorial/blob/main/Tutorial%20Photos/Notebook%20Basics/008%20Download%20Data.png?raw=true)\n",
    "\n",
    "---\n",
    "\n",
    "### 📊 Adding Visualizations\n",
    "\n",
    "Databricks allows you to quickly create visualizations based on table results:\n",
    "\n",
    "1. After running a query, click the **+ → Visualization** button above the results table.\n",
    "2. Choose the type of chart (e.g., Bar, Pie, Line, Scatter).\n",
    "3. Configure fields like X-axis, Y-axis, and aggregations.\n",
    "4. Save and display the visualization directly in the notebook.\n",
    "\n",
    "> **Tip:** Visualizations are great for exploratory data analysis and reports.\n",
    "\n",
    "---\n",
    "\n",
    "### 📈 Viewing Data Profile\n",
    "\n",
    "For a quick summary of your data:\n",
    "\n",
    "1. After running a query, click the **+ → Data Profile** tab above the results table.\n",
    "2. Databricks automatically generates key statistics for each column, such as:\n",
    "   - Count\n",
    "   - Distinct count\n",
    "   - Min/Max values\n",
    "   - Null count\n",
    "   - Data types\n",
    "3. Use this feature to understand data distributions and identify data quality issues easily.\n",
    "\n",
    "---\n",
    "![Download Data](https://github.com/SophiaUrena/Databricks-Tutorial/blob/main/Tutorial%20Photos/Notebook%20Basics/009%20Visualization.png?raw=true)\n",
    "### **Why Use These Features?**\n",
    "\n",
    "- **Download Data** → Easily share or back up results.\n",
    "- **Visualizations** → Quickly spot trends and patterns without writing additional code.\n",
    "- **Data Profile** → Get a summary of data quality, completeness, and key stats at a glance.\n",
    "\n",
    "---\n",
    "\n",
    "Would you like me to also prepare a screenshot guide showing exactly where these buttons (Download, Visualization, Data Profile) are in the UI? 😊\n"
   ]
  },
  {
   "cell_type": "markdown",
   "metadata": {
    "application/vnd.databricks.v1+cell": {
     "cellMetadata": {},
     "inputWidgets": {},
     "nuid": "102241c2-75d3-41fd-ade3-ec959961db80",
     "showTitle": false,
     "tableResultSettingsMap": {},
     "title": ""
    }
   },
   "source": [
    "### Downloading or Exporting Your Notebook\n",
    "\n",
    "Databricks allows you to export your notebook files so you can:\n",
    "\n",
    "- Back them up locally.\n",
    "- Share them with others.\n",
    "- Use them outside Databricks in environments like Jupyter Notebook.\n",
    "\n",
    "---\n",
    "\n",
    "### 📄 How to Export Your Notebook:\n",
    "\n",
    "1. At the top left of your notebook, click on the **File** menu.\n",
    "2. Hover over **Export**.\n",
    "3. Choose your preferred format:\n",
    "   - **HTML** → Download as a static HTML file (great for sharing readable versions).\n",
    "   - **IPython Notebook (.ipynb)** → Download as a standard Jupyter Notebook file.\n",
    "   - **Source File** → Download as a pure Python, SQL, Scala, or R source file depending on notebook language.\n",
    "\n",
    "---\n",
    "\n",
    "### 📥 Common Use Case: IPython Notebook (`.ipynb`)\n",
    "\n",
    "Selecting **Export → IPython notebook** downloads the notebook in `.ipynb` format:\n",
    "\n",
    "- Compatible with **Jupyter Notebooks**.\n",
    "- Allows you to run the notebook outside Databricks (locally or on other platforms).\n",
    "- Keeps all your code, Markdown, and outputs intact.\n",
    "\n",
    "---\n",
    "![Export](https://github.com/SophiaUrena/Databricks-Tutorial/blob/main/Tutorial%20Photos/Notebook%20Basics/010%20Export.png?raw=true)\n",
    "> **Tip:**  \n",
    "Regularly exporting notebooks is a good habit for **version control**, **backup**, or moving between environments.\n",
    "\n",
    "Would you like me to include a visual step-by-step screenshot of where to find the File → Export option?\n"
   ]
  },
  {
   "cell_type": "markdown",
   "metadata": {
    "application/vnd.databricks.v1+cell": {
     "cellMetadata": {},
     "inputWidgets": {},
     "nuid": "fd0ea689-3270-488e-9619-958e6c429618",
     "showTitle": false,
     "tableResultSettingsMap": {},
     "title": ""
    }
   },
   "source": [
    "### Exporting Files or Notebooks from Workspace\n",
    "\n",
    "In Databricks, you can export notebooks or entire folders directly from the **Workspace sidebar**, making it easy to back up or share your work.\n",
    "\n",
    "---\n",
    "\n",
    "### 📁 How to Export a Notebook or Folder:\n",
    "\n",
    "1. In the **Workspace** tab (left-hand sidebar), navigate to the folder where your notebook is saved (e.g., the `Demo` folder).\n",
    "2. Locate the notebook or folder you want to export.\n",
    "3. Right-click on the notebook (or click the three dots next to it).\n",
    "4. Select **Export** → **Download as**.\n",
    "\n",
    "---\n",
    "\n",
    "### 📄 Available Export Formats:\n",
    "\n",
    "- **HTML** → Download as a static HTML file for easy reading or sharing.\n",
    "- **IPython notebook (.ipynb)** → Export in Jupyter Notebook format (standard `.ipynb` file).\n",
    "- **Source File** → Download as the raw source code (`.py`, `.sql`, `.scala`, or `.r`).\n",
    "\n",
    "![Export Files](https://github.com/SophiaUrena/Databricks-Tutorial/blob/main/Tutorial%20Photos/Notebook%20Basics/011%20Export%20Files.png?raw=true)\n",
    "\n",
    "---\n",
    "\n",
    "### 📥 Why Export from Workspace?\n",
    "\n",
    "- Easily back up your work outside Databricks.\n",
    "- Share notebooks with collaborators.\n",
    "- Move notebooks between different Databricks workspaces or external environments (e.g., Jupyter).\n",
    "\n",
    "---\n",
    "\n",
    "> **Tip:**  \n",
    "You can also export entire folders (containing multiple notebooks) as a single **DBC archive file**, which can be imported back into Databricks anytime.\n",
    "\n",
    "Would you like me to include a step-by-step screenshot guide showing exactly where to right-click and export?\n"
   ]
  },
  {
   "cell_type": "markdown",
   "metadata": {
    "application/vnd.databricks.v1+cell": {
     "cellMetadata": {},
     "inputWidgets": {},
     "nuid": "ae62fc7f-d8f8-4070-b6a2-8b5d9ad698f1",
     "showTitle": false,
     "tableResultSettingsMap": {},
     "title": ""
    }
   },
   "source": [
    "### Importing Files or Notebooks into Databricks\n",
    "\n",
    "To import a notebook or file:\n",
    "\n",
    "1. In the **Workspace** tab, navigate to the folder where you want to import.\n",
    "2. Click the **down arrow** next to the folder name.\n",
    "3. Select **Import** → **Import File**.\n",
    "4. Choose your file (e.g., `.ipynb`, `.dbc`, `.py`), then click **Import**.\n",
    "\n",
    "![Import](https://github.com/SophiaUrena/Databricks-Tutorial/blob/main/Tutorial%20Photos/Notebook%20Basics/012%20Import.png?raw=true)\n",
    "\n",
    "> **Tip:** You can also drag and drop files directly into the Workspace UI to import.\n"
   ]
  },
  {
   "cell_type": "markdown",
   "metadata": {
    "application/vnd.databricks.v1+cell": {
     "cellMetadata": {},
     "inputWidgets": {},
     "nuid": "b2fda803-fd53-46fb-acbf-f60b4a95a35b",
     "showTitle": false,
     "tableResultSettingsMap": {},
     "title": ""
    }
   },
   "source": [
    "### Viewing File History\n",
    "\n",
    "Databricks keeps track of notebook revisions automatically.\n",
    "\n",
    "**To view file history:**\n",
    "\n",
    "1. Open your notebook.\n",
    "2. Click on the **Last edit** section at the top right of the notebook.\n",
    "3. Browse or restore previous versions.\n",
    "\n",
    "![Last Edit](https://github.com/SophiaUrena/Databricks-Tutorial/blob/main/Tutorial%20Photos/Notebook%20Basics/013%20Last%20Edit.png?raw=true)\n",
    "![Version History](https://github.com/SophiaUrena/Databricks-Tutorial/blob/main/Tutorial%20Photos/Notebook%20Basics/014%20Version%20History.png?raw=true)\n",
    "\n",
    "> **Tip:** Useful for recovering earlier versions or undoing changes!\n"
   ]
  }
 ],
 "metadata": {
  "application/vnd.databricks.v1+notebook": {
   "computePreferences": null,
   "dashboards": [],
   "environmentMetadata": {
    "base_environment": "",
    "environment_version": "2"
   },
   "language": "python",
   "notebookMetadata": {
    "mostRecentlyExecutedCommandWithImplicitDF": {
     "commandId": 515972510199942,
     "dataframes": [
      "_sqldf"
     ]
    },
    "pythonIndentUnit": 4
   },
   "notebookName": "1 - Notebook Basics",
   "widgets": {}
  },
  "language_info": {
   "name": "python"
  }
 },
 "nbformat": 4,
 "nbformat_minor": 0
}
