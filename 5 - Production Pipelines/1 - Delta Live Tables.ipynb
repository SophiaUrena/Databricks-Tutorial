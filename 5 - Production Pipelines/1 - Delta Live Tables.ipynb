{
 "cells": [
  {
   "cell_type": "markdown",
   "metadata": {
    "application/vnd.databricks.v1+cell": {
     "cellMetadata": {},
     "inputWidgets": {},
     "nuid": "0423215a-5199-4af1-89f2-5fa129f4b171",
     "showTitle": false,
     "tableResultSettingsMap": {},
     "title": ""
    }
   },
   "source": [
    "\n",
    "\n",
    "# Delta Live Tables"
   ]
  },
  {
   "cell_type": "markdown",
   "metadata": {
    "application/vnd.databricks.v1+cell": {
     "cellMetadata": {},
     "inputWidgets": {},
     "nuid": "9e2cf2e2-98ba-4a9a-a6f7-1064187563ec",
     "showTitle": false,
     "tableResultSettingsMap": {},
     "title": ""
    }
   },
   "source": [
    "\n",
    "<div  style=\"text-align: center; line-height: 0; padding-top: 9px;\">\n",
    "  <img src=\"https://raw.githubusercontent.com/derar-alhussein/Databricks-Certified-Data-Engineer-Associate/main/Includes/images/bookstore_schema.png\" alt=\"Databricks Learning\" style=\"width: 600\">\n",
    "</div>"
   ]
  },
  {
   "cell_type": "code",
   "execution_count": 0,
   "metadata": {
    "application/vnd.databricks.v1+cell": {
     "cellMetadata": {},
     "inputWidgets": {},
     "nuid": "c173cbdc-1aa2-4bd1-a223-3eee8d8bd6b0",
     "showTitle": false,
     "tableResultSettingsMap": {},
     "title": ""
    }
   },
   "outputs": [],
   "source": [
    "SET datasets.path=dbfs:/mnt/demo-datasets/bookstore;"
   ]
  },
  {
   "cell_type": "markdown",
   "metadata": {
    "application/vnd.databricks.v1+cell": {
     "cellMetadata": {},
     "inputWidgets": {},
     "nuid": "1a64471e-f5ba-4bc8-826a-725eb97f84b8",
     "showTitle": false,
     "tableResultSettingsMap": {},
     "title": ""
    }
   },
   "source": [
    "## 🔶 Bronze Layer Tables\n",
    "\n",
    "The Bronze layer ingests raw, unprocessed data from external sources such as Parquet files, logs, or streaming systems.\n",
    "\n",
    "- Acts as the landing zone for incremental data ingestion.\n",
    "- Supports batch or streaming ingestion using Auto Loader.\n",
    "- Stores data in its original form for traceability and reprocessing if needed.\n",
    "\n",
    "Typical tables in this layer include raw versions of operational data like customer and order records.\n"
   ]
  },
  {
   "cell_type": "code",
   "execution_count": 0,
   "metadata": {
    "application/vnd.databricks.v1+cell": {
     "cellMetadata": {},
     "inputWidgets": {},
     "nuid": "334cd7be-b815-46b5-a941-0c1f9e86a6a9",
     "showTitle": false,
     "tableResultSettingsMap": {},
     "title": ""
    }
   },
   "outputs": [],
   "source": [
    "--orders_raw\n",
    "--DLT tables will always be preceded by the LIVE keyword\n",
    "CREATE OR REFRESH STREAMING LIVE TABLE orders_raw\n",
    "COMMENT \"The raw books orders, ingested from orders-raw\"\n",
    "AS SELECT * FROM cloud_files(\"${datasets.path}/orders-json-raw\", \"json\",\n",
    "                             map(\"cloudFiles.inferColumnTypes\", \"true\"))"
   ]
  },
  {
   "cell_type": "code",
   "execution_count": 0,
   "metadata": {
    "application/vnd.databricks.v1+cell": {
     "cellMetadata": {},
     "inputWidgets": {},
     "nuid": "13b72ae8-7ccd-465f-95c5-f7bb7602fb85",
     "showTitle": false,
     "tableResultSettingsMap": {},
     "title": ""
    }
   },
   "outputs": [],
   "source": [
    "--customers\n",
    "CREATE OR REFRESH LIVE TABLE customers\n",
    "COMMENT \"The customers lookup table, ingested from customers-json\"\n",
    "AS SELECT * FROM json.`${datasets.path}/customers-json`"
   ]
  },
  {
   "cell_type": "markdown",
   "metadata": {
    "application/vnd.databricks.v1+cell": {
     "cellMetadata": {},
     "inputWidgets": {},
     "nuid": "5c90fb57-4257-4656-9f03-c628672b44fa",
     "showTitle": false,
     "tableResultSettingsMap": {},
     "title": ""
    }
   },
   "source": [
    "\n",
    "## 🔷 Silver Layer Tables\n",
    "\n",
    "Silver tables clean, enrich, and transform data from the Bronze layer to improve usability and structure.\n",
    "\n",
    "- Joins data from multiple Bronze sources.\n",
    "- Applies filters, formatting, and deduplication.\n",
    "- Enforces **data quality expectations**, such as non-null checks or valid formats.\n",
    "- Helps prepare datasets for analytics or further aggregation.\n",
    "\n",
    "The S"
   ]
  },
  {
   "cell_type": "code",
   "execution_count": 0,
   "metadata": {
    "application/vnd.databricks.v1+cell": {
     "cellMetadata": {},
     "inputWidgets": {},
     "nuid": "2fe809b2-12d7-442c-b6a2-2216bc78c389",
     "showTitle": false,
     "tableResultSettingsMap": {},
     "title": ""
    }
   },
   "outputs": [],
   "source": [
    "--orders_cleaned\n",
    "CREATE OR REFRESH STREAMING LIVE TABLE orders_cleaned (\n",
    "  CONSTRAINT valid_order_number EXPECT (order_id IS NOT NULL) ON VIOLATION DROP ROW\n",
    ")\n",
    "COMMENT \"The cleaned books orders with valid order_id\"\n",
    "AS\n",
    "  SELECT order_id, quantity, o.customer_id, c.profile:first_name as f_name, c.profile:last_name as l_name,\n",
    "         cast(from_unixtime(order_timestamp, 'yyyy-MM-dd HH:mm:ss') AS timestamp) order_timestamp, o.books,\n",
    "         c.profile:address:country as country\n",
    "  FROM STREAM(LIVE.orders_raw) o\n",
    "  LEFT JOIN LIVE.customers c\n",
    "    ON o.customer_id = c.customer_id"
   ]
  },
  {
   "cell_type": "markdown",
   "metadata": {
    "application/vnd.databricks.v1+cell": {
     "cellMetadata": {},
     "inputWidgets": {},
     "nuid": "0367921a-fccc-40e4-85fa-9b2ecadf2dc4",
     "showTitle": false,
     "tableResultSettingsMap": {},
     "title": ""
    }
   },
   "source": [
    "## Constraint violation\n",
    "The three modes currently supported by Delta\n",
    "\n",
    "| **`ON VIOLATION`** | Behavior |\n",
    "| --- | --- |\n",
    "| **`DROP ROW`** | Discard records that violate constraints |\n",
    "| **`FAIL UPDATE`** | Violated constraint causes the pipeline to fail  |\n",
    "| Omitted | Records violating constraints will be kept, and reported in metrics |"
   ]
  },
  {
   "cell_type": "markdown",
   "metadata": {
    "application/vnd.databricks.v1+cell": {
     "cellMetadata": {},
     "inputWidgets": {},
     "nuid": "8515a160-af66-4538-9346-05572c715705",
     "showTitle": false,
     "tableResultSettingsMap": {},
     "title": ""
    }
   },
   "source": [
    "## 🟡 Gold Tables\n",
    "\n",
    "Gold tables contain **curated, aggregated, and business-level datasets** optimized for reporting, dashboards, and machine learning applications.\n",
    "\n",
    "- Aggregations and KPIs are calculated at this stage.\n",
    "- Supports business logic tailored to end-user needs.\n",
    "- Offers clean, performant tables ready for decision-making.\n",
    "\n",
    "These tables represent the final output of the multi-hop pipeline."
   ]
  },
  {
   "cell_type": "code",
   "execution_count": 0,
   "metadata": {
    "application/vnd.databricks.v1+cell": {
     "cellMetadata": {},
     "inputWidgets": {},
     "nuid": "2ba172de-ed22-4cd2-8fd7-02acbcb4a00b",
     "showTitle": false,
     "tableResultSettingsMap": {},
     "title": ""
    }
   },
   "outputs": [],
   "source": [
    "CREATE OR REFRESH LIVE TABLE cn_daily_customer_books\n",
    "COMMENT \"Daily number of books per customer in China\"\n",
    "AS\n",
    "  SELECT customer_id, f_name, l_name, date_trunc(\"DD\", order_timestamp) order_date, sum(quantity) books_counts\n",
    "  FROM LIVE.orders_cleaned\n",
    "  WHERE country = \"China\"\n",
    "  GROUP BY customer_id, f_name, l_name, date_trunc(\"DD\", order_timestamp)"
   ]
  },
  {
   "cell_type": "code",
   "execution_count": 0,
   "metadata": {
    "application/vnd.databricks.v1+cell": {
     "cellMetadata": {},
     "inputWidgets": {},
     "nuid": "a8c7a792-cdfc-47a2-be83-533d5cf3eca1",
     "showTitle": false,
     "tableResultSettingsMap": {},
     "title": ""
    }
   },
   "outputs": [],
   "source": [
    "CREATE OR REFRESH LIVE TABLE fr_daily_customer_books\n",
    "COMMENT \"Daily number of books per customer in France\"\n",
    "AS\n",
    "  SELECT customer_id, f_name, l_name, date_trunc(\"DD\", order_timestamp) order_date, sum(quantity) books_counts\n",
    "  FROM LIVE.orders_cleaned\n",
    "  WHERE country = \"France\"\n",
    "  GROUP BY customer_id, f_name, l_name, date_trunc(\"DD\", order_timestamp)"
   ]
  },
  {
   "cell_type": "markdown",
   "metadata": {
    "application/vnd.databricks.v1+cell": {
     "cellMetadata": {},
     "inputWidgets": {},
     "nuid": "f1ae1d28-f9b8-4c3d-a63b-85d0d5270299",
     "showTitle": false,
     "tableResultSettingsMap": {},
     "title": ""
    }
   },
   "source": [
    "## ⚙️ Creating and Managing a DLT Pipeline\n",
    "\n",
    "Creating a DLT pipeline involves:\n",
    "\n",
    "- Configuring source and target paths.\n",
    "- Defining table logic in Python or SQL with decorators.\n",
    "- Selecting **pipeline modes**: triggered (batch-like) or continuous (streaming).\n",
    "- Using **development mode** for iterative building and testing."
   ]
  },
  {
   "cell_type": "markdown",
   "metadata": {
    "application/vnd.databricks.v1+cell": {
     "cellMetadata": {},
     "inputWidgets": {},
     "nuid": "c7653e8b-c1a0-4ff4-bfef-166f2f0401e2",
     "showTitle": false,
     "tableResultSettingsMap": {},
     "title": ""
    }
   },
   "source": [
    "## 🗺️ Execution Flow & Metadata\n",
    "\n",
    "- **Directed Acyclic Graphs (DAGs)** visually represent table dependencies and data flow within the pipeline.\n",
    "- **Storage**: All DLT tables are stored as Delta tables.\n",
    "- **Metadata**: Logs and records are accessible for monitoring progress, reviewing data quality results, and auditing changes.\n"
   ]
  },
  {
   "cell_type": "markdown",
   "metadata": {
    "application/vnd.databricks.v1+cell": {
     "cellMetadata": {},
     "inputWidgets": {},
     "nuid": "a4c43796-ed68-467a-996c-296f5b414c78",
     "showTitle": false,
     "tableResultSettingsMap": {},
     "title": ""
    }
   },
   "source": [
    "## 🛑 Ending the Session\n",
    "\n",
    "After the pipeline has been executed:\n",
    "\n",
    "- Resources like clusters can be shut down manually or automatically.\n",
    "- Output tables remain accessible for downstream use."
   ]
  }
 ],
 "metadata": {
  "application/vnd.databricks.v1+notebook": {
   "computePreferences": null,
   "dashboards": [],
   "environmentMetadata": {
    "base_environment": "",
    "environment_version": "2"
   },
   "inputWidgetPreferences": null,
   "language": "sql",
   "notebookMetadata": {
    "pythonIndentUnit": 4
   },
   "notebookName": "1 - Delta Live Tables",
   "widgets": {}
  },
  "language_info": {
   "name": "sql"
  }
 },
 "nbformat": 4,
 "nbformat_minor": 0
}
