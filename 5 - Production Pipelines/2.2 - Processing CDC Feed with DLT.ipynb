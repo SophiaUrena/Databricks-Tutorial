{
 "cells": [
  {
   "cell_type": "code",
   "execution_count": 0,
   "metadata": {
    "application/vnd.databricks.v1+cell": {
     "cellMetadata": {},
     "inputWidgets": {},
     "nuid": "371c9d09-7894-4fdb-83e4-208119ca0a19",
     "showTitle": false,
     "tableResultSettingsMap": {},
     "title": ""
    }
   },
   "outputs": [],
   "source": [
    "SET datasets.path=dbfs:/mnt/demo-datasets/bookstore;"
   ]
  },
  {
   "cell_type": "markdown",
   "metadata": {
    "application/vnd.databricks.v1+cell": {
     "cellMetadata": {},
     "inputWidgets": {},
     "nuid": "ce9b4555-3b1b-4640-afb8-d5a328248f83",
     "showTitle": false,
     "tableResultSettingsMap": {},
     "title": ""
    }
   },
   "source": [
    "\n",
    "## 🔶 Bronze Layer Tables\n",
    "\n",
    "The **Bronze layer** ingests raw CDC feeds, typically in formats like JSON, which include operational metadata used to track the type and time of each change.\n",
    "\n",
    "### Key Operational Columns:\n",
    "- **row_status**: Specifies the operation type:\n",
    "  - *Insert*: New data\n",
    "  - *Update*: Modified records\n",
    "  - *Delete*: Removed entries\n",
    "- **row_time**: Timestamp of the change, used to sequence operations accurately.\n",
    "\n",
    "Auto Loader is commonly used for incremental ingestion of CDC events from cloud storage.\n"
   ]
  },
  {
   "cell_type": "code",
   "execution_count": 0,
   "metadata": {
    "application/vnd.databricks.v1+cell": {
     "cellMetadata": {},
     "inputWidgets": {},
     "nuid": "10987390-defc-44f9-935a-baec0c9ac9c1",
     "showTitle": false,
     "tableResultSettingsMap": {},
     "title": ""
    }
   },
   "outputs": [],
   "source": [
    "CREATE OR REFRESH STREAMING LIVE TABLE books_bronze\n",
    "COMMENT \"The raw books data, ingested from CDC feed\"\n",
    "AS SELECT * FROM cloud_files(\"${datasets.path}/books-cdc\", \"json\");"
   ]
  },
  {
   "cell_type": "markdown",
   "metadata": {
    "application/vnd.databricks.v1+cell": {
     "cellMetadata": {},
     "inputWidgets": {},
     "nuid": "bcd0d259-112b-4f73-87ac-620e15ed2f99",
     "showTitle": false,
     "tableResultSettingsMap": {},
     "title": ""
    }
   },
   "source": [
    "\n",
    "## 🔷 Silver Layer Tables\n",
    "\n",
    "The **Silver layer** applies changes from the Bronze table using the `APPLY CHANGES INTO` mechanism. This layer performs logic to upsert and delete records based on CDC metadata.\n",
    "\n",
    "### Highlights:\n",
    "- The primary key is used to detect whether a record should be updated or inserted.\n",
    "- Deletion handling is explicitly defined to remove records from the target when applicable.\n",
    "- The **row_time** column ensures events are processed in the correct order to maintain consistency.\n",
    "\n",
    "This layer transforms the raw event stream into a clean, accurate view of the current state of the data.\n"
   ]
  },
  {
   "cell_type": "code",
   "execution_count": 0,
   "metadata": {
    "application/vnd.databricks.v1+cell": {
     "cellMetadata": {},
     "inputWidgets": {},
     "nuid": "183d0f26-1c38-41cf-9fd8-0e32ff36004b",
     "showTitle": false,
     "tableResultSettingsMap": {},
     "title": ""
    }
   },
   "outputs": [],
   "source": [
    "CREATE OR REFRESH STREAMING LIVE TABLE books_silver;\n",
    "\n",
    "APPLY CHANGES INTO LIVE.books_silver\n",
    "  FROM STREAM(LIVE.books_bronze)\n",
    "  KEYS (book_id)\n",
    "  APPLY AS DELETE WHEN row_status = \"DELETE\"\n",
    "  SEQUENCE BY row_time\n",
    "  COLUMNS * EXCEPT (row_status, row_time)"
   ]
  },
  {
   "cell_type": "markdown",
   "metadata": {
    "application/vnd.databricks.v1+cell": {
     "cellMetadata": {},
     "inputWidgets": {},
     "nuid": "ab4675f3-b2b0-42c2-87f4-ac2da4f8e4bd",
     "showTitle": false,
     "tableResultSettingsMap": {},
     "title": ""
    }
   },
   "source": [
    "## 🟡 Gold Layer Tables\n",
    "\n",
    "The **Gold layer** aggregates and curates data for analytics and reporting. Aggregations are applied over the Silver layer to derive metrics such as totals or trends by category or time.\n",
    "\n",
    "> Note: Due to ongoing updates and deletions, the output tables in this layer are **not suitable as streaming sources**."
   ]
  },
  {
   "cell_type": "code",
   "execution_count": 0,
   "metadata": {
    "application/vnd.databricks.v1+cell": {
     "cellMetadata": {},
     "inputWidgets": {},
     "nuid": "ee7dfd82-d279-4b6b-a95e-b6dd42d77650",
     "showTitle": false,
     "tableResultSettingsMap": {},
     "title": ""
    }
   },
   "outputs": [],
   "source": [
    "CREATE LIVE TABLE author_counts_state\n",
    "  COMMENT \"Number of books per author\"\n",
    "AS SELECT author, count(*) as books_count, current_timestamp() updated_time\n",
    "  FROM LIVE.books_silver\n",
    "  GROUP BY author"
   ]
  },
  {
   "cell_type": "markdown",
   "metadata": {
    "application/vnd.databricks.v1+cell": {
     "cellMetadata": {},
     "inputWidgets": {},
     "nuid": "4ce5a2ef-f2c0-46fd-84d1-0c546fdf11eb",
     "showTitle": false,
     "tableResultSettingsMap": {},
     "title": ""
    }
   },
   "source": [
    "## 🧩 DLT Views\n",
    "\n",
    "Delta Live Table views are **temporary constructs** within the pipeline, designed to:\n",
    "- Facilitate logic separation.\n",
    "- Enforce data quality checks.\n",
    "- Collect validation metrics or intermediate transformations.\n",
    "\n",
    "DLT views cannot be accessed outside of the DLT pipeline but provide flexibility within multi-step data flows.\n"
   ]
  },
  {
   "cell_type": "code",
   "execution_count": 0,
   "metadata": {
    "application/vnd.databricks.v1+cell": {
     "cellMetadata": {},
     "inputWidgets": {},
     "nuid": "21470c77-a46e-49a8-8175-2577a4341479",
     "showTitle": false,
     "tableResultSettingsMap": {},
     "title": ""
    }
   },
   "outputs": [],
   "source": [
    "CREATE LIVE VIEW books_sales\n",
    "  AS SELECT b.title, o.quantity\n",
    "    FROM (\n",
    "      SELECT *, explode(books) AS book \n",
    "      FROM LIVE.orders_cleaned) o\n",
    "    INNER JOIN LIVE.books_silver b\n",
    "    ON o.book.book_id = b.book_id;"
   ]
  },
  {
   "cell_type": "markdown",
   "metadata": {
    "application/vnd.databricks.v1+cell": {
     "cellMetadata": {},
     "inputWidgets": {},
     "nuid": "199b4f7d-95a2-4c27-8c26-8355a1bb75ff",
     "showTitle": false,
     "tableResultSettingsMap": {},
     "title": ""
    }
   },
   "source": [
    "## 🛠️ Pipeline Integration\n",
    "\n",
    "The session concludes by integrating new logic into an existing DLT pipeline, demonstrating how:\n",
    "- Multiple notebooks can be used collaboratively.\n",
    "- CDC processing fits naturally within a **multi-hop** architecture.\n",
    "- Pipelines remain modular, maintainable, and scalable across evolving datasets.\n",
    "\n",
    "Delta Live Tables simplify complex CDC workflows by combining declarative syntax, built-in quality enforcement, and seamless orchestration."
   ]
  }
 ],
 "metadata": {
  "application/vnd.databricks.v1+notebook": {
   "computePreferences": null,
   "dashboards": [],
   "environmentMetadata": {
    "base_environment": "",
    "environment_version": "2"
   },
   "inputWidgetPreferences": null,
   "language": "sql",
   "notebookMetadata": {
    "pythonIndentUnit": 4
   },
   "notebookName": "2.2 - Processing CDC Feed with DLT",
   "widgets": {}
  },
  "language_info": {
   "name": "sql"
  }
 },
 "nbformat": 4,
 "nbformat_minor": 0
}
